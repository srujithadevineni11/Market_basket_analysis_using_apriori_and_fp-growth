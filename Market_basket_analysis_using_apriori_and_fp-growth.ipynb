{
 "cells": [
  {
   "cell_type": "markdown",
   "id": "8e513f32",
   "metadata": {},
   "source": [
    "# importing libraries"
   ]
  },
  {
   "cell_type": "code",
   "execution_count": 1,
   "id": "98557563",
   "metadata": {},
   "outputs": [],
   "source": [
    "import numpy as np\n",
    "import pandas as pd\n",
    "import matplotlib.pyplot as plt\n",
    "import seaborn as sns"
   ]
  },
  {
   "cell_type": "markdown",
   "id": "68fac5fa",
   "metadata": {},
   "source": [
    "# loading the dataset\n",
    "In our dataset ; is used as a separator to seperate values in the csv file and also the data format is not correct so we parsed the date "
   ]
  },
  {
   "cell_type": "code",
   "execution_count": 2,
   "id": "cf60348c",
   "metadata": {},
   "outputs": [
    {
     "name": "stderr",
     "output_type": "stream",
     "text": [
      "/var/folders/gj/gyy0sxs96ns46ccr129t75_w0000gn/T/ipykernel_11595/4094114122.py:1: DtypeWarning: Columns (0) have mixed types. Specify dtype option on import or set low_memory=False.\n",
      "  data_frame = pd.read_csv('/Users/srujithadevineni/Data_science/Assignment-1_Data.csv', sep=';')\n"
     ]
    }
   ],
   "source": [
    "data_frame = pd.read_csv('/Users/srujithadevineni/Data_science/Assignment-1_Data.csv', sep=';')"
   ]
  },
  {
   "cell_type": "markdown",
   "id": "ec54e0a7",
   "metadata": {},
   "source": [
    "# cleaning the dataset"
   ]
  },
  {
   "cell_type": "markdown",
   "id": "b4548d18",
   "metadata": {},
   "source": [
    "### The top 5 rows and columns of the data\n"
   ]
  },
  {
   "cell_type": "code",
   "execution_count": 3,
   "id": "8f5afdfa",
   "metadata": {},
   "outputs": [
    {
     "data": {
      "text/html": [
       "<div>\n",
       "<style scoped>\n",
       "    .dataframe tbody tr th:only-of-type {\n",
       "        vertical-align: middle;\n",
       "    }\n",
       "\n",
       "    .dataframe tbody tr th {\n",
       "        vertical-align: top;\n",
       "    }\n",
       "\n",
       "    .dataframe thead th {\n",
       "        text-align: right;\n",
       "    }\n",
       "</style>\n",
       "<table border=\"1\" class=\"dataframe\">\n",
       "  <thead>\n",
       "    <tr style=\"text-align: right;\">\n",
       "      <th></th>\n",
       "      <th>BillNo</th>\n",
       "      <th>Itemname</th>\n",
       "      <th>Quantity</th>\n",
       "      <th>Date</th>\n",
       "      <th>Price</th>\n",
       "      <th>CustomerID</th>\n",
       "      <th>Country</th>\n",
       "    </tr>\n",
       "  </thead>\n",
       "  <tbody>\n",
       "    <tr>\n",
       "      <th>0</th>\n",
       "      <td>536365</td>\n",
       "      <td>WHITE HANGING HEART T-LIGHT HOLDER</td>\n",
       "      <td>6</td>\n",
       "      <td>01.12.2010 08:26</td>\n",
       "      <td>2,55</td>\n",
       "      <td>17850.0</td>\n",
       "      <td>United Kingdom</td>\n",
       "    </tr>\n",
       "    <tr>\n",
       "      <th>1</th>\n",
       "      <td>536365</td>\n",
       "      <td>WHITE METAL LANTERN</td>\n",
       "      <td>6</td>\n",
       "      <td>01.12.2010 08:26</td>\n",
       "      <td>3,39</td>\n",
       "      <td>17850.0</td>\n",
       "      <td>United Kingdom</td>\n",
       "    </tr>\n",
       "    <tr>\n",
       "      <th>2</th>\n",
       "      <td>536365</td>\n",
       "      <td>CREAM CUPID HEARTS COAT HANGER</td>\n",
       "      <td>8</td>\n",
       "      <td>01.12.2010 08:26</td>\n",
       "      <td>2,75</td>\n",
       "      <td>17850.0</td>\n",
       "      <td>United Kingdom</td>\n",
       "    </tr>\n",
       "    <tr>\n",
       "      <th>3</th>\n",
       "      <td>536365</td>\n",
       "      <td>KNITTED UNION FLAG HOT WATER BOTTLE</td>\n",
       "      <td>6</td>\n",
       "      <td>01.12.2010 08:26</td>\n",
       "      <td>3,39</td>\n",
       "      <td>17850.0</td>\n",
       "      <td>United Kingdom</td>\n",
       "    </tr>\n",
       "    <tr>\n",
       "      <th>4</th>\n",
       "      <td>536365</td>\n",
       "      <td>RED WOOLLY HOTTIE WHITE HEART.</td>\n",
       "      <td>6</td>\n",
       "      <td>01.12.2010 08:26</td>\n",
       "      <td>3,39</td>\n",
       "      <td>17850.0</td>\n",
       "      <td>United Kingdom</td>\n",
       "    </tr>\n",
       "  </tbody>\n",
       "</table>\n",
       "</div>"
      ],
      "text/plain": [
       "   BillNo                             Itemname  Quantity              Date  \\\n",
       "0  536365   WHITE HANGING HEART T-LIGHT HOLDER         6  01.12.2010 08:26   \n",
       "1  536365                  WHITE METAL LANTERN         6  01.12.2010 08:26   \n",
       "2  536365       CREAM CUPID HEARTS COAT HANGER         8  01.12.2010 08:26   \n",
       "3  536365  KNITTED UNION FLAG HOT WATER BOTTLE         6  01.12.2010 08:26   \n",
       "4  536365       RED WOOLLY HOTTIE WHITE HEART.         6  01.12.2010 08:26   \n",
       "\n",
       "  Price  CustomerID         Country  \n",
       "0  2,55     17850.0  United Kingdom  \n",
       "1  3,39     17850.0  United Kingdom  \n",
       "2  2,75     17850.0  United Kingdom  \n",
       "3  3,39     17850.0  United Kingdom  \n",
       "4  3,39     17850.0  United Kingdom  "
      ]
     },
     "execution_count": 3,
     "metadata": {},
     "output_type": "execute_result"
    }
   ],
   "source": [
    "data_frame.head()"
   ]
  },
  {
   "cell_type": "markdown",
   "id": "c3c6472e",
   "metadata": {},
   "source": [
    "### The last 5 rows and columns of the data."
   ]
  },
  {
   "cell_type": "code",
   "execution_count": 4,
   "id": "6788f2f7",
   "metadata": {},
   "outputs": [
    {
     "data": {
      "text/html": [
       "<div>\n",
       "<style scoped>\n",
       "    .dataframe tbody tr th:only-of-type {\n",
       "        vertical-align: middle;\n",
       "    }\n",
       "\n",
       "    .dataframe tbody tr th {\n",
       "        vertical-align: top;\n",
       "    }\n",
       "\n",
       "    .dataframe thead th {\n",
       "        text-align: right;\n",
       "    }\n",
       "</style>\n",
       "<table border=\"1\" class=\"dataframe\">\n",
       "  <thead>\n",
       "    <tr style=\"text-align: right;\">\n",
       "      <th></th>\n",
       "      <th>BillNo</th>\n",
       "      <th>Itemname</th>\n",
       "      <th>Quantity</th>\n",
       "      <th>Date</th>\n",
       "      <th>Price</th>\n",
       "      <th>CustomerID</th>\n",
       "      <th>Country</th>\n",
       "    </tr>\n",
       "  </thead>\n",
       "  <tbody>\n",
       "    <tr>\n",
       "      <th>522059</th>\n",
       "      <td>581587</td>\n",
       "      <td>PACK OF 20 SPACEBOY NAPKINS</td>\n",
       "      <td>12</td>\n",
       "      <td>09.12.2011 12:50</td>\n",
       "      <td>0,85</td>\n",
       "      <td>12680.0</td>\n",
       "      <td>France</td>\n",
       "    </tr>\n",
       "    <tr>\n",
       "      <th>522060</th>\n",
       "      <td>581587</td>\n",
       "      <td>CHILDREN'S APRON DOLLY GIRL</td>\n",
       "      <td>6</td>\n",
       "      <td>09.12.2011 12:50</td>\n",
       "      <td>2,1</td>\n",
       "      <td>12680.0</td>\n",
       "      <td>France</td>\n",
       "    </tr>\n",
       "    <tr>\n",
       "      <th>522061</th>\n",
       "      <td>581587</td>\n",
       "      <td>CHILDRENS CUTLERY DOLLY GIRL</td>\n",
       "      <td>4</td>\n",
       "      <td>09.12.2011 12:50</td>\n",
       "      <td>4,15</td>\n",
       "      <td>12680.0</td>\n",
       "      <td>France</td>\n",
       "    </tr>\n",
       "    <tr>\n",
       "      <th>522062</th>\n",
       "      <td>581587</td>\n",
       "      <td>CHILDRENS CUTLERY CIRCUS PARADE</td>\n",
       "      <td>4</td>\n",
       "      <td>09.12.2011 12:50</td>\n",
       "      <td>4,15</td>\n",
       "      <td>12680.0</td>\n",
       "      <td>France</td>\n",
       "    </tr>\n",
       "    <tr>\n",
       "      <th>522063</th>\n",
       "      <td>581587</td>\n",
       "      <td>BAKING SET 9 PIECE RETROSPOT</td>\n",
       "      <td>3</td>\n",
       "      <td>09.12.2011 12:50</td>\n",
       "      <td>4,95</td>\n",
       "      <td>12680.0</td>\n",
       "      <td>France</td>\n",
       "    </tr>\n",
       "  </tbody>\n",
       "</table>\n",
       "</div>"
      ],
      "text/plain": [
       "        BillNo                         Itemname  Quantity              Date  \\\n",
       "522059  581587      PACK OF 20 SPACEBOY NAPKINS        12  09.12.2011 12:50   \n",
       "522060  581587      CHILDREN'S APRON DOLLY GIRL         6  09.12.2011 12:50   \n",
       "522061  581587     CHILDRENS CUTLERY DOLLY GIRL         4  09.12.2011 12:50   \n",
       "522062  581587  CHILDRENS CUTLERY CIRCUS PARADE         4  09.12.2011 12:50   \n",
       "522063  581587     BAKING SET 9 PIECE RETROSPOT         3  09.12.2011 12:50   \n",
       "\n",
       "       Price  CustomerID Country  \n",
       "522059  0,85     12680.0  France  \n",
       "522060   2,1     12680.0  France  \n",
       "522061  4,15     12680.0  France  \n",
       "522062  4,15     12680.0  France  \n",
       "522063  4,95     12680.0  France  "
      ]
     },
     "execution_count": 4,
     "metadata": {},
     "output_type": "execute_result"
    }
   ],
   "source": [
    "data_frame.tail()"
   ]
  },
  {
   "cell_type": "markdown",
   "id": "feca2b8a",
   "metadata": {},
   "source": [
    "###  No of rows and columns"
   ]
  },
  {
   "cell_type": "code",
   "execution_count": 5,
   "id": "893337b3",
   "metadata": {},
   "outputs": [
    {
     "data": {
      "text/plain": [
       "(522064, 7)"
      ]
     },
     "execution_count": 5,
     "metadata": {},
     "output_type": "execute_result"
    }
   ],
   "source": [
    "data_frame.shape"
   ]
  },
  {
   "cell_type": "code",
   "execution_count": 6,
   "id": "18d73b98",
   "metadata": {},
   "outputs": [
    {
     "name": "stdout",
     "output_type": "stream",
     "text": [
      "Count of columns in the data is:   7\n"
     ]
    }
   ],
   "source": [
    "print('Count of columns in the data is:  ', len(data_frame.columns))"
   ]
  },
  {
   "cell_type": "code",
   "execution_count": 7,
   "id": "78fef61c",
   "metadata": {},
   "outputs": [
    {
     "name": "stdout",
     "output_type": "stream",
     "text": [
      "Count of rows in the data is:   522064\n"
     ]
    }
   ],
   "source": [
    "print('Count of rows in the data is:  ', len(data_frame))"
   ]
  },
  {
   "cell_type": "markdown",
   "id": "0ff36998",
   "metadata": {},
   "source": [
    "### The names of the columns in dataset"
   ]
  },
  {
   "cell_type": "code",
   "execution_count": 8,
   "id": "aeb4f7a7",
   "metadata": {},
   "outputs": [
    {
     "data": {
      "text/plain": [
       "Index(['BillNo', 'Itemname', 'Quantity', 'Date', 'Price', 'CustomerID',\n",
       "       'Country'],\n",
       "      dtype='object')"
      ]
     },
     "execution_count": 8,
     "metadata": {},
     "output_type": "execute_result"
    }
   ],
   "source": [
    "data_frame.columns #gets the names of the columns in dataset\n"
   ]
  },
  {
   "cell_type": "code",
   "execution_count": 9,
   "id": "83f29e84",
   "metadata": {},
   "outputs": [
    {
     "name": "stdout",
     "output_type": "stream",
     "text": [
      "length of data is 522064\n"
     ]
    }
   ],
   "source": [
    "print('length of data is',len(data_frame))#Gets the Length of the dataset"
   ]
  },
  {
   "cell_type": "markdown",
   "id": "2ad217db",
   "metadata": {},
   "source": [
    "### The data type and information about data, including the number of records in each column, data having null or not null, Data type, the memory usage of the dataset\n"
   ]
  },
  {
   "cell_type": "code",
   "execution_count": 10,
   "id": "01a5b0a6",
   "metadata": {},
   "outputs": [
    {
     "name": "stdout",
     "output_type": "stream",
     "text": [
      "<class 'pandas.core.frame.DataFrame'>\n",
      "RangeIndex: 522064 entries, 0 to 522063\n",
      "Data columns (total 7 columns):\n",
      " #   Column      Non-Null Count   Dtype  \n",
      "---  ------      --------------   -----  \n",
      " 0   BillNo      522064 non-null  object \n",
      " 1   Itemname    520609 non-null  object \n",
      " 2   Quantity    522064 non-null  int64  \n",
      " 3   Date        522064 non-null  object \n",
      " 4   Price       522064 non-null  object \n",
      " 5   CustomerID  388023 non-null  float64\n",
      " 6   Country     522064 non-null  object \n",
      "dtypes: float64(1), int64(1), object(5)\n",
      "memory usage: 27.9+ MB\n"
     ]
    }
   ],
   "source": [
    "data_frame.info()"
   ]
  },
  {
   "cell_type": "markdown",
   "id": "9bcb5ec1",
   "metadata": {},
   "source": [
    "### checking if there are any null values"
   ]
  },
  {
   "cell_type": "code",
   "execution_count": 11,
   "id": "33a599a6",
   "metadata": {},
   "outputs": [
    {
     "data": {
      "text/plain": [
       "BillNo             0\n",
       "Itemname        1455\n",
       "Quantity           0\n",
       "Date               0\n",
       "Price              0\n",
       "CustomerID    134041\n",
       "Country            0\n",
       "dtype: int64"
      ]
     },
     "execution_count": 11,
     "metadata": {},
     "output_type": "execute_result"
    }
   ],
   "source": [
    "np.sum(data_frame.isnull())"
   ]
  },
  {
   "cell_type": "markdown",
   "id": "b79e9ebd",
   "metadata": {},
   "source": [
    "###  Fill missing values of 'CustomerID' values with 'Unknown'"
   ]
  },
  {
   "cell_type": "code",
   "execution_count": 12,
   "id": "fd4be256",
   "metadata": {},
   "outputs": [],
   "source": [
    "data_frame['CustomerID'].fillna('Unknown', inplace=True)"
   ]
  },
  {
   "cell_type": "markdown",
   "id": "51fe9ba6",
   "metadata": {},
   "source": [
    "###  Fill missing values of 'itemname' values with 'Unknown'"
   ]
  },
  {
   "cell_type": "code",
   "execution_count": 13,
   "id": "dbf4e36d",
   "metadata": {},
   "outputs": [],
   "source": [
    "data_frame['Itemname'].fillna('Unknown', inplace=True)"
   ]
  },
  {
   "cell_type": "code",
   "execution_count": 14,
   "id": "5fc6de3b",
   "metadata": {},
   "outputs": [
    {
     "data": {
      "text/plain": [
       "BillNo        0\n",
       "Itemname      0\n",
       "Quantity      0\n",
       "Date          0\n",
       "Price         0\n",
       "CustomerID    0\n",
       "Country       0\n",
       "dtype: int64"
      ]
     },
     "execution_count": 14,
     "metadata": {},
     "output_type": "execute_result"
    }
   ],
   "source": [
    "np.sum(data_frame.isnull())"
   ]
  },
  {
   "cell_type": "code",
   "execution_count": 15,
   "id": "faf8c5cb",
   "metadata": {},
   "outputs": [
    {
     "name": "stdout",
     "output_type": "stream",
     "text": [
      "length of data after missing values is:  522064\n"
     ]
    }
   ],
   "source": [
    "print('length of data after missing values is: ',len(data_frame))#Gets the Length of the dataset"
   ]
  },
  {
   "cell_type": "markdown",
   "id": "f10987be",
   "metadata": {},
   "source": [
    "### Dropping data with negative or zero quantity"
   ]
  },
  {
   "cell_type": "code",
   "execution_count": 16,
   "id": "c639eb04",
   "metadata": {},
   "outputs": [],
   "source": [
    "data_frame=data_frame.loc[data_frame['Quantity']>0]"
   ]
  },
  {
   "cell_type": "markdown",
   "id": "8cc5b2e0",
   "metadata": {},
   "source": [
    "### Dropping data with zero price"
   ]
  },
  {
   "cell_type": "code",
   "execution_count": 17,
   "id": "6cbebb0d",
   "metadata": {},
   "outputs": [],
   "source": [
    "data_frame=data_frame.loc[data_frame['Price']>'0']"
   ]
  },
  {
   "cell_type": "markdown",
   "id": "c1a17bf1",
   "metadata": {},
   "source": [
    "### Dropping Non-product data.\n",
    "\n",
    "POSTAGE: This typically refers to the cost of shipping or mailing physical items, such as letters, parcels, or packages, via traditional postal services. It represents the fees associated with sending physical goods through mail or courier services.\n",
    "\n",
    "DOTCOM POSTAGE: This term is more specific to online or e-commerce transactions. It often represents the charges for shipping items purchased through an online platform, website, or e-commerce store. It's a designation used to differentiate the postage fees specifically related to online sales or transactions from other types of postage costs.\n",
    "\n",
    "Bad debts: In retail or commercial settings, when transactions remain unpaid for an extended period and are considered unrecoverable, the company might categorize them as bad debts. Adjusting or writing off such bad debts is a way to account for the loss in financial records and adjust the company's accounts accordingly for accurate financial reporting and tax purposes.\n",
    "\n",
    "Manual: The entry 'Manual' in the dataset might represent a category used to describe manual transactions or sales that were not automatically recorded through a specific system or automated process. This entry could include transactions that were manually entered into the records for various reasons.\n"
   ]
  },
  {
   "cell_type": "code",
   "execution_count": 18,
   "id": "e807c502",
   "metadata": {},
   "outputs": [],
   "source": [
    "data_frame=data_frame.loc[(data_frame['Itemname']!='POSTAGE')&(data_frame['Itemname']!='DOTCOM POSTAGE')&(data_frame['Itemname']!='Adjust bad debt')&(data_frame['Itemname']!='Manual')]"
   ]
  },
  {
   "cell_type": "markdown",
   "id": "addad62c",
   "metadata": {},
   "source": [
    "### Extracting year-months from the 'Date' column"
   ]
  },
  {
   "cell_type": "code",
   "execution_count": 19,
   "id": "3904397c",
   "metadata": {},
   "outputs": [
    {
     "data": {
      "text/html": [
       "<div>\n",
       "<style scoped>\n",
       "    .dataframe tbody tr th:only-of-type {\n",
       "        vertical-align: middle;\n",
       "    }\n",
       "\n",
       "    .dataframe tbody tr th {\n",
       "        vertical-align: top;\n",
       "    }\n",
       "\n",
       "    .dataframe thead th {\n",
       "        text-align: right;\n",
       "    }\n",
       "</style>\n",
       "<table border=\"1\" class=\"dataframe\">\n",
       "  <thead>\n",
       "    <tr style=\"text-align: right;\">\n",
       "      <th></th>\n",
       "      <th>BillNo</th>\n",
       "      <th>Itemname</th>\n",
       "      <th>Quantity</th>\n",
       "      <th>Date</th>\n",
       "      <th>Price</th>\n",
       "      <th>CustomerID</th>\n",
       "      <th>Country</th>\n",
       "      <th>Year</th>\n",
       "      <th>Month</th>\n",
       "    </tr>\n",
       "  </thead>\n",
       "  <tbody>\n",
       "    <tr>\n",
       "      <th>0</th>\n",
       "      <td>536365</td>\n",
       "      <td>WHITE HANGING HEART T-LIGHT HOLDER</td>\n",
       "      <td>6</td>\n",
       "      <td>01.12.2010 08:26</td>\n",
       "      <td>2,55</td>\n",
       "      <td>17850.0</td>\n",
       "      <td>United Kingdom</td>\n",
       "      <td>2010</td>\n",
       "      <td>12</td>\n",
       "    </tr>\n",
       "    <tr>\n",
       "      <th>1</th>\n",
       "      <td>536365</td>\n",
       "      <td>WHITE METAL LANTERN</td>\n",
       "      <td>6</td>\n",
       "      <td>01.12.2010 08:26</td>\n",
       "      <td>3,39</td>\n",
       "      <td>17850.0</td>\n",
       "      <td>United Kingdom</td>\n",
       "      <td>2010</td>\n",
       "      <td>12</td>\n",
       "    </tr>\n",
       "    <tr>\n",
       "      <th>2</th>\n",
       "      <td>536365</td>\n",
       "      <td>CREAM CUPID HEARTS COAT HANGER</td>\n",
       "      <td>8</td>\n",
       "      <td>01.12.2010 08:26</td>\n",
       "      <td>2,75</td>\n",
       "      <td>17850.0</td>\n",
       "      <td>United Kingdom</td>\n",
       "      <td>2010</td>\n",
       "      <td>12</td>\n",
       "    </tr>\n",
       "    <tr>\n",
       "      <th>3</th>\n",
       "      <td>536365</td>\n",
       "      <td>KNITTED UNION FLAG HOT WATER BOTTLE</td>\n",
       "      <td>6</td>\n",
       "      <td>01.12.2010 08:26</td>\n",
       "      <td>3,39</td>\n",
       "      <td>17850.0</td>\n",
       "      <td>United Kingdom</td>\n",
       "      <td>2010</td>\n",
       "      <td>12</td>\n",
       "    </tr>\n",
       "    <tr>\n",
       "      <th>4</th>\n",
       "      <td>536365</td>\n",
       "      <td>RED WOOLLY HOTTIE WHITE HEART.</td>\n",
       "      <td>6</td>\n",
       "      <td>01.12.2010 08:26</td>\n",
       "      <td>3,39</td>\n",
       "      <td>17850.0</td>\n",
       "      <td>United Kingdom</td>\n",
       "      <td>2010</td>\n",
       "      <td>12</td>\n",
       "    </tr>\n",
       "  </tbody>\n",
       "</table>\n",
       "</div>"
      ],
      "text/plain": [
       "   BillNo                             Itemname  Quantity              Date  \\\n",
       "0  536365   WHITE HANGING HEART T-LIGHT HOLDER         6  01.12.2010 08:26   \n",
       "1  536365                  WHITE METAL LANTERN         6  01.12.2010 08:26   \n",
       "2  536365       CREAM CUPID HEARTS COAT HANGER         8  01.12.2010 08:26   \n",
       "3  536365  KNITTED UNION FLAG HOT WATER BOTTLE         6  01.12.2010 08:26   \n",
       "4  536365       RED WOOLLY HOTTIE WHITE HEART.         6  01.12.2010 08:26   \n",
       "\n",
       "  Price CustomerID         Country  Year Month  \n",
       "0  2,55    17850.0  United Kingdom  2010    12  \n",
       "1  3,39    17850.0  United Kingdom  2010    12  \n",
       "2  2,75    17850.0  United Kingdom  2010    12  \n",
       "3  3,39    17850.0  United Kingdom  2010    12  \n",
       "4  3,39    17850.0  United Kingdom  2010    12  "
      ]
     },
     "execution_count": 19,
     "metadata": {},
     "output_type": "execute_result"
    }
   ],
   "source": [
    "data_frame['Year']=data_frame['Date'].apply(lambda x:x.split('.')[2])\n",
    "data_frame['Year']=data_frame['Year'].apply(lambda x:x.split(' ')[0])\n",
    "data_frame['Month']=data_frame['Date'].apply(lambda x:x.split('.')[1])\n",
    "data_frame.head()"
   ]
  },
  {
   "cell_type": "code",
   "execution_count": 20,
   "id": "794cd49b",
   "metadata": {},
   "outputs": [],
   "source": [
    "data_frame['Year_Month'] = data_frame['Year'].astype(str) + '_' + data_frame['Month'].astype(str)"
   ]
  },
  {
   "cell_type": "markdown",
   "id": "68a7768e",
   "metadata": {},
   "source": [
    "### Getting unique months in the dataset"
   ]
  },
  {
   "cell_type": "code",
   "execution_count": 21,
   "id": "fa5a13d7",
   "metadata": {},
   "outputs": [
    {
     "name": "stdout",
     "output_type": "stream",
     "text": [
      "['2010_12' '2011_01' '2011_02' '2011_03' '2011_04' '2011_05' '2011_06'\n",
      " '2011_07' '2011_08' '2011_09' '2011_10' '2011_11' '2011_12']\n"
     ]
    }
   ],
   "source": [
    "unique_year_month = data_frame['Year_Month'].unique()\n",
    "print(unique_year_month )"
   ]
  },
  {
   "cell_type": "markdown",
   "id": "b74bdcb2",
   "metadata": {},
   "source": [
    "### converting the price which is in string fomrat ie , in between to a int format by replacing with ."
   ]
  },
  {
   "cell_type": "code",
   "execution_count": 22,
   "id": "8345d46e",
   "metadata": {},
   "outputs": [
    {
     "data": {
      "text/html": [
       "<div>\n",
       "<style scoped>\n",
       "    .dataframe tbody tr th:only-of-type {\n",
       "        vertical-align: middle;\n",
       "    }\n",
       "\n",
       "    .dataframe tbody tr th {\n",
       "        vertical-align: top;\n",
       "    }\n",
       "\n",
       "    .dataframe thead th {\n",
       "        text-align: right;\n",
       "    }\n",
       "</style>\n",
       "<table border=\"1\" class=\"dataframe\">\n",
       "  <thead>\n",
       "    <tr style=\"text-align: right;\">\n",
       "      <th></th>\n",
       "      <th>BillNo</th>\n",
       "      <th>Itemname</th>\n",
       "      <th>Quantity</th>\n",
       "      <th>Date</th>\n",
       "      <th>Price</th>\n",
       "      <th>CustomerID</th>\n",
       "      <th>Country</th>\n",
       "      <th>Year</th>\n",
       "      <th>Month</th>\n",
       "      <th>Year_Month</th>\n",
       "      <th>Total price</th>\n",
       "    </tr>\n",
       "  </thead>\n",
       "  <tbody>\n",
       "    <tr>\n",
       "      <th>0</th>\n",
       "      <td>536365</td>\n",
       "      <td>WHITE HANGING HEART T-LIGHT HOLDER</td>\n",
       "      <td>6</td>\n",
       "      <td>01.12.2010 08:26</td>\n",
       "      <td>2.55</td>\n",
       "      <td>17850.0</td>\n",
       "      <td>United Kingdom</td>\n",
       "      <td>2010</td>\n",
       "      <td>12</td>\n",
       "      <td>2010_12</td>\n",
       "      <td>15.30</td>\n",
       "    </tr>\n",
       "    <tr>\n",
       "      <th>1</th>\n",
       "      <td>536365</td>\n",
       "      <td>WHITE METAL LANTERN</td>\n",
       "      <td>6</td>\n",
       "      <td>01.12.2010 08:26</td>\n",
       "      <td>3.39</td>\n",
       "      <td>17850.0</td>\n",
       "      <td>United Kingdom</td>\n",
       "      <td>2010</td>\n",
       "      <td>12</td>\n",
       "      <td>2010_12</td>\n",
       "      <td>20.34</td>\n",
       "    </tr>\n",
       "    <tr>\n",
       "      <th>2</th>\n",
       "      <td>536365</td>\n",
       "      <td>CREAM CUPID HEARTS COAT HANGER</td>\n",
       "      <td>8</td>\n",
       "      <td>01.12.2010 08:26</td>\n",
       "      <td>2.75</td>\n",
       "      <td>17850.0</td>\n",
       "      <td>United Kingdom</td>\n",
       "      <td>2010</td>\n",
       "      <td>12</td>\n",
       "      <td>2010_12</td>\n",
       "      <td>22.00</td>\n",
       "    </tr>\n",
       "    <tr>\n",
       "      <th>3</th>\n",
       "      <td>536365</td>\n",
       "      <td>KNITTED UNION FLAG HOT WATER BOTTLE</td>\n",
       "      <td>6</td>\n",
       "      <td>01.12.2010 08:26</td>\n",
       "      <td>3.39</td>\n",
       "      <td>17850.0</td>\n",
       "      <td>United Kingdom</td>\n",
       "      <td>2010</td>\n",
       "      <td>12</td>\n",
       "      <td>2010_12</td>\n",
       "      <td>20.34</td>\n",
       "    </tr>\n",
       "    <tr>\n",
       "      <th>4</th>\n",
       "      <td>536365</td>\n",
       "      <td>RED WOOLLY HOTTIE WHITE HEART.</td>\n",
       "      <td>6</td>\n",
       "      <td>01.12.2010 08:26</td>\n",
       "      <td>3.39</td>\n",
       "      <td>17850.0</td>\n",
       "      <td>United Kingdom</td>\n",
       "      <td>2010</td>\n",
       "      <td>12</td>\n",
       "      <td>2010_12</td>\n",
       "      <td>20.34</td>\n",
       "    </tr>\n",
       "  </tbody>\n",
       "</table>\n",
       "</div>"
      ],
      "text/plain": [
       "   BillNo                             Itemname  Quantity              Date  \\\n",
       "0  536365   WHITE HANGING HEART T-LIGHT HOLDER         6  01.12.2010 08:26   \n",
       "1  536365                  WHITE METAL LANTERN         6  01.12.2010 08:26   \n",
       "2  536365       CREAM CUPID HEARTS COAT HANGER         8  01.12.2010 08:26   \n",
       "3  536365  KNITTED UNION FLAG HOT WATER BOTTLE         6  01.12.2010 08:26   \n",
       "4  536365       RED WOOLLY HOTTIE WHITE HEART.         6  01.12.2010 08:26   \n",
       "\n",
       "   Price CustomerID         Country  Year Month Year_Month  Total price  \n",
       "0   2.55    17850.0  United Kingdom  2010    12    2010_12        15.30  \n",
       "1   3.39    17850.0  United Kingdom  2010    12    2010_12        20.34  \n",
       "2   2.75    17850.0  United Kingdom  2010    12    2010_12        22.00  \n",
       "3   3.39    17850.0  United Kingdom  2010    12    2010_12        20.34  \n",
       "4   3.39    17850.0  United Kingdom  2010    12    2010_12        20.34  "
      ]
     },
     "execution_count": 22,
     "metadata": {},
     "output_type": "execute_result"
    }
   ],
   "source": [
    "data_frame['Price']=data_frame['Price'].str.replace(',','.').astype('float64')\n",
    "data_frame['Total price']=data_frame.Quantity*data_frame.Price\n",
    "data_frame.head()"
   ]
  },
  {
   "cell_type": "markdown",
   "id": "429476e9",
   "metadata": {},
   "source": [
    "### Checking the Total price in each month."
   ]
  },
  {
   "cell_type": "code",
   "execution_count": 23,
   "id": "8fd17b1d",
   "metadata": {},
   "outputs": [
    {
     "name": "stdout",
     "output_type": "stream",
     "text": [
      "Year  Month\n",
      "2010  12        778386.780\n",
      "2011  01        648311.120\n",
      "      02        490058.230\n",
      "      03        659979.660\n",
      "      04        507366.971\n",
      "      05        721789.800\n",
      "      06        710158.020\n",
      "      07        642528.481\n",
      "      08        701411.420\n",
      "      09        981408.102\n",
      "      10       1072317.070\n",
      "      11       1421055.630\n",
      "      12        606953.650\n",
      "Name: Total price, dtype: float64\n"
     ]
    }
   ],
   "source": [
    "monthly_sales=data_frame.groupby(['Year','Month'])['Total price'].sum()\n",
    "print(monthly_sales)"
   ]
  },
  {
   "cell_type": "code",
   "execution_count": 24,
   "id": "bc4323c7",
   "metadata": {},
   "outputs": [],
   "source": [
    "data_frame=data_frame.loc[data_frame['Year']!='2010']"
   ]
  },
  {
   "cell_type": "markdown",
   "id": "230f2ee8",
   "metadata": {},
   "source": [
    "### Plotting total sales trend over time"
   ]
  },
  {
   "cell_type": "code",
   "execution_count": 25,
   "id": "cbab0bb9",
   "metadata": {},
   "outputs": [
    {
     "data": {
      "image/png": "[encoded data removed]",
      "text/plain": [
       "<Figure size 1000x600 with 1 Axes>"
      ]
     },
     "metadata": {},
     "output_type": "display_data"
    }
   ],
   "source": [
    "plt.figure(figsize=(10, 6))\n",
    "monthly_sales.plot(kind='line', marker='o', color='blue')\n",
    "plt.title('Monthly Total Sales Trend')\n",
    "plt.xlabel('Year-Month')\n",
    "plt.ylabel('Total Sales')\n",
    "plt.xticks(rotation=45)\n",
    "# plt.grid(True)\n",
    "plt.tight_layout()\n",
    "plt.show()"
   ]
  },
  {
   "cell_type": "markdown",
   "id": "935fb0cf",
   "metadata": {},
   "source": [
    "### plotting sales amount with quantity vs the year-month sales"
   ]
  },
  {
   "cell_type": "code",
   "execution_count": 26,
   "id": "8d7fe1c1",
   "metadata": {},
   "outputs": [
    {
     "data": {
      "image/png": "[encoded data removed]",
      "text/plain": [
       "<Figure size 1200x600 with 1 Axes>"
      ]
     },
     "metadata": {},
     "output_type": "display_data"
    }
   ],
   "source": [
    "# Grouping data by Year_Month and aggregating Quantity and Total price\n",
    "monthly_sales_data = data_frame.groupby('Year_Month').agg({'Quantity': 'sum', 'Total price': 'sum'}).reset_index()\n",
    "bar_width = 0.4\n",
    "index = np.arange(len(monthly_sales_data['Year_Month']))\n",
    "plt.figure(figsize=(12, 6))\n",
    "plt.bar(index, monthly_sales_data['Quantity'], width=bar_width, label='Quantity', color='orange')\n",
    "plt.bar(index + bar_width, monthly_sales_data['Total price'], width=bar_width, label='Total Sales', color='blue')\n",
    "plt.title('Monthly Sales Comparison: Quantity vs Total Sales')\n",
    "plt.xlabel('Year-Month')\n",
    "plt.ylabel('Quantity / Total Sales')\n",
    "plt.xticks(index + bar_width / 2, monthly_sales_data['Year_Month'], rotation=45)\n",
    "plt.legend()\n",
    "plt.tight_layout()\n",
    "plt.show()"
   ]
  },
  {
   "cell_type": "markdown",
   "id": "b4bfb02a",
   "metadata": {},
   "source": [
    "### plotting sales amount vs the country"
   ]
  },
  {
   "cell_type": "code",
   "execution_count": 27,
   "id": "3b1dac7c",
   "metadata": {},
   "outputs": [
    {
     "name": "stdout",
     "output_type": "stream",
     "text": [
      "Country with the most sales every month:\n",
      "    Year_Month         Country  Total price\n",
      "196    2011_01  United Kingdom   547241.830\n",
      "197    2011_02  United Kingdom   419050.620\n",
      "198    2011_03  United Kingdom   573351.220\n",
      "199    2011_04  United Kingdom   466318.821\n",
      "200    2011_05  United Kingdom   619639.480\n",
      "201    2011_06  United Kingdom   606395.970\n",
      "202    2011_07  United Kingdom   578308.011\n",
      "203    2011_08  United Kingdom   580150.260\n",
      "204    2011_09  United Kingdom   878384.112\n",
      "205    2011_10  United Kingdom   914957.970\n",
      "206    2011_11  United Kingdom  1286504.780\n",
      "207    2011_12  United Kingdom   572306.010\n"
     ]
    }
   ],
   "source": [
    "# Grouping data by Country and Year_Month and aggregating Total price\n",
    "monthly_country_sales = data_frame.groupby(['Country', 'Year_Month'])['Total price'].sum().reset_index()\n",
    "\n",
    "# Finding the country with the maximum sales for each month\n",
    "max_sales_per_month = monthly_country_sales.loc[monthly_country_sales.groupby('Year_Month')['Total price'].idxmax()]\n",
    "\n",
    "# Displaying the country with the most sales every month\n",
    "print(\"Country with the most sales every month:\")\n",
    "print(max_sales_per_month[['Year_Month', 'Country', 'Total price']])\n"
   ]
  },
  {
   "cell_type": "markdown",
   "id": "2f092711",
   "metadata": {},
   "source": [
    "### performance of different countrys over the year for each month "
   ]
  },
  {
   "cell_type": "code",
   "execution_count": 28,
   "id": "2be8d5ac",
   "metadata": {},
   "outputs": [
    {
     "data": {
      "image/png": "[encoded data removed]",
      "text/plain": [
       "<Figure size 1200x800 with 1 Axes>"
      ]
     },
     "metadata": {},
     "output_type": "display_data"
    }
   ],
   "source": [
    "# Grouping data by Country and Year_Month and aggregating Total price\n",
    "monthly_country_sales = data_frame.groupby(['Country', 'Year_Month'])['Total price'].sum().reset_index()\n",
    "\n",
    "# Selecting the top N countries by total sales\n",
    "top_countries = monthly_country_sales.groupby('Country')['Total price'].sum().nlargest(15).index\n",
    "\n",
    "# Filtering data for the top N countries\n",
    "top_countries_data = monthly_country_sales[monthly_country_sales['Country'].isin(top_countries)]\n",
    "\n",
    "# Plotting monthly sales by country as a bar graph\n",
    "plt.figure(figsize=(12, 8))\n",
    "sns.barplot(x='Year_Month', y='Total price', hue='Country', data=top_countries_data)\n",
    "plt.title('Monthly Sales by Country')\n",
    "plt.xlabel('Year-Month')\n",
    "plt.ylabel('Total Sales')\n",
    "plt.xticks(rotation=45)\n",
    "plt.legend(title='Country', bbox_to_anchor=(1.05, 1), loc='upper left')\n",
    "plt.tight_layout()\n",
    "plt.show()\n"
   ]
  },
  {
   "cell_type": "markdown",
   "id": "e3acacc8",
   "metadata": {},
   "source": [
    "### sold item names with their total price"
   ]
  },
  {
   "cell_type": "code",
   "execution_count": 29,
   "id": "de776827",
   "metadata": {},
   "outputs": [
    {
     "name": "stdout",
     "output_type": "stream",
     "text": [
      "Sold Item Names with Total Price:\n",
      "                                Itemname  Total price\n",
      "2302         PAPER CRAFT , LITTLE BIRDIE   168469.600\n",
      "2747            REGENCY CAKESTAND 3 TIER   138351.430\n",
      "2327                       PARTY BUNTING    96164.390\n",
      "3719  WHITE HANGING HEART T-LIGHT HOLDER    91658.950\n",
      "1743             JUMBO BAG RED RETROSPOT    89416.380\n",
      "...                                  ...          ...\n",
      "2638                         RAIN PONCHO        0.850\n",
      "2425     PINK CRYSTAL GUITAR PHONE CHARM        0.850\n",
      "2956     SET 12 COLOURING PENCILS DOILEY        0.650\n",
      "1610           HEN HOUSE W CHICK IN NEST        0.420\n",
      "2258          PADS TO MATCH ALL CUSHIONS        0.003\n",
      "\n",
      "[3898 rows x 2 columns]\n"
     ]
    }
   ],
   "source": [
    "# Grouping data by Itemname and aggregating Total price\n",
    "item_sales = data_frame.groupby('Itemname')['Total price'].sum().reset_index()\n",
    "item_sales_sorted = item_sales.sort_values('Total price', ascending=False)\n",
    "print(\"Sold Item Names with Total Price:\")\n",
    "print(item_sales_sorted)\n"
   ]
  },
  {
   "cell_type": "markdown",
   "id": "7cd8177c",
   "metadata": {},
   "source": [
    "### top sales amount items "
   ]
  },
  {
   "cell_type": "code",
   "execution_count": 30,
   "id": "3654b32f",
   "metadata": {},
   "outputs": [
    {
     "data": {
      "text/html": [
       "<div>\n",
       "<style scoped>\n",
       "    .dataframe tbody tr th:only-of-type {\n",
       "        vertical-align: middle;\n",
       "    }\n",
       "\n",
       "    .dataframe tbody tr th {\n",
       "        vertical-align: top;\n",
       "    }\n",
       "\n",
       "    .dataframe thead th {\n",
       "        text-align: right;\n",
       "    }\n",
       "</style>\n",
       "<table border=\"1\" class=\"dataframe\">\n",
       "  <thead>\n",
       "    <tr style=\"text-align: right;\">\n",
       "      <th></th>\n",
       "      <th>Itemname</th>\n",
       "      <th>Total price</th>\n",
       "    </tr>\n",
       "  </thead>\n",
       "  <tbody>\n",
       "    <tr>\n",
       "      <th>2302</th>\n",
       "      <td>PAPER CRAFT , LITTLE BIRDIE</td>\n",
       "      <td>168469.60</td>\n",
       "    </tr>\n",
       "    <tr>\n",
       "      <th>2747</th>\n",
       "      <td>REGENCY CAKESTAND 3 TIER</td>\n",
       "      <td>138351.43</td>\n",
       "    </tr>\n",
       "    <tr>\n",
       "      <th>2327</th>\n",
       "      <td>PARTY BUNTING</td>\n",
       "      <td>96164.39</td>\n",
       "    </tr>\n",
       "    <tr>\n",
       "      <th>3719</th>\n",
       "      <td>WHITE HANGING HEART T-LIGHT HOLDER</td>\n",
       "      <td>91658.95</td>\n",
       "    </tr>\n",
       "    <tr>\n",
       "      <th>1743</th>\n",
       "      <td>JUMBO BAG RED RETROSPOT</td>\n",
       "      <td>89416.38</td>\n",
       "    </tr>\n",
       "  </tbody>\n",
       "</table>\n",
       "</div>"
      ],
      "text/plain": [
       "                                Itemname  Total price\n",
       "2302         PAPER CRAFT , LITTLE BIRDIE    168469.60\n",
       "2747            REGENCY CAKESTAND 3 TIER    138351.43\n",
       "2327                       PARTY BUNTING     96164.39\n",
       "3719  WHITE HANGING HEART T-LIGHT HOLDER     91658.95\n",
       "1743             JUMBO BAG RED RETROSPOT     89416.38"
      ]
     },
     "execution_count": 30,
     "metadata": {},
     "output_type": "execute_result"
    }
   ],
   "source": [
    "item_sales_sorted.head()"
   ]
  },
  {
   "cell_type": "markdown",
   "id": "b3427238",
   "metadata": {},
   "source": [
    "### least sales amount  items "
   ]
  },
  {
   "cell_type": "code",
   "execution_count": 31,
   "id": "316114e1",
   "metadata": {},
   "outputs": [
    {
     "data": {
      "text/html": [
       "<div>\n",
       "<style scoped>\n",
       "    .dataframe tbody tr th:only-of-type {\n",
       "        vertical-align: middle;\n",
       "    }\n",
       "\n",
       "    .dataframe tbody tr th {\n",
       "        vertical-align: top;\n",
       "    }\n",
       "\n",
       "    .dataframe thead th {\n",
       "        text-align: right;\n",
       "    }\n",
       "</style>\n",
       "<table border=\"1\" class=\"dataframe\">\n",
       "  <thead>\n",
       "    <tr style=\"text-align: right;\">\n",
       "      <th></th>\n",
       "      <th>Itemname</th>\n",
       "      <th>Total price</th>\n",
       "    </tr>\n",
       "  </thead>\n",
       "  <tbody>\n",
       "    <tr>\n",
       "      <th>2638</th>\n",
       "      <td>RAIN PONCHO</td>\n",
       "      <td>0.850</td>\n",
       "    </tr>\n",
       "    <tr>\n",
       "      <th>2425</th>\n",
       "      <td>PINK CRYSTAL GUITAR PHONE CHARM</td>\n",
       "      <td>0.850</td>\n",
       "    </tr>\n",
       "    <tr>\n",
       "      <th>2956</th>\n",
       "      <td>SET 12 COLOURING PENCILS DOILEY</td>\n",
       "      <td>0.650</td>\n",
       "    </tr>\n",
       "    <tr>\n",
       "      <th>1610</th>\n",
       "      <td>HEN HOUSE W CHICK IN NEST</td>\n",
       "      <td>0.420</td>\n",
       "    </tr>\n",
       "    <tr>\n",
       "      <th>2258</th>\n",
       "      <td>PADS TO MATCH ALL CUSHIONS</td>\n",
       "      <td>0.003</td>\n",
       "    </tr>\n",
       "  </tbody>\n",
       "</table>\n",
       "</div>"
      ],
      "text/plain": [
       "                             Itemname  Total price\n",
       "2638                      RAIN PONCHO        0.850\n",
       "2425  PINK CRYSTAL GUITAR PHONE CHARM        0.850\n",
       "2956  SET 12 COLOURING PENCILS DOILEY        0.650\n",
       "1610        HEN HOUSE W CHICK IN NEST        0.420\n",
       "2258       PADS TO MATCH ALL CUSHIONS        0.003"
      ]
     },
     "execution_count": 31,
     "metadata": {},
     "output_type": "execute_result"
    }
   ],
   "source": [
    "item_sales_sorted.tail()"
   ]
  },
  {
   "cell_type": "markdown",
   "id": "a95e0ed8",
   "metadata": {},
   "source": [
    "### Top 10 most purchased items¶"
   ]
  },
  {
   "cell_type": "code",
   "execution_count": 32,
   "id": "95424216",
   "metadata": {
    "scrolled": true
   },
   "outputs": [
    {
     "name": "stdout",
     "output_type": "stream",
     "text": [
      "Top 10 Most Purchased Items:\n",
      "                                Itemname  Quantity\n",
      "2302         PAPER CRAFT , LITTLE BIRDIE     80995\n",
      "1972      MEDIUM CERAMIC TOP STORAGE JAR     77553\n",
      "3809   WORLD WAR 2 GLIDERS ASSTD DESIGNS     48604\n",
      "1743             JUMBO BAG RED RETROSPOT     45857\n",
      "2580                      POPCORN HOLDER     35601\n",
      "211        ASSORTED COLOUR BIRD ORNAMENT     33738\n",
      "3719  WHITE HANGING HEART T-LIGHT HOLDER     32765\n",
      "2637                  RABBIT NIGHT LIGHT     30518\n",
      "2252     PACK OF 72 RETROSPOT CAKE CASES     30369\n",
      "219            ASSORTED COLOURS SILK FAN     23605\n"
     ]
    }
   ],
   "source": [
    "# Grouping the data by 'Itemname' and summing up the 'Quantity' for each item\n",
    "item_quantity = data_frame.groupby('Itemname')['Quantity'].sum().reset_index()\n",
    "top_10_purchased_items = item_quantity.sort_values(by='Quantity', ascending=False).head(10)\n",
    "print(\"Top 10 Most Purchased Items:\")\n",
    "print(top_10_purchased_items)\n"
   ]
  },
  {
   "cell_type": "markdown",
   "id": "11738410",
   "metadata": {},
   "source": [
    "#### removing lines where item name is missing"
   ]
  },
  {
   "cell_type": "code",
   "execution_count": 33,
   "id": "988e2a40",
   "metadata": {},
   "outputs": [
    {
     "name": "stdout",
     "output_type": "stream",
     "text": [
      "Number of unique items: 3898\n"
     ]
    }
   ],
   "source": [
    "data_frame=data_frame[data_frame['Itemname'].notna()]\n",
    "print(\"Number of unique items:\",data_frame ['Itemname'].nunique())"
   ]
  },
  {
   "cell_type": "markdown",
   "id": "56cb78dd",
   "metadata": {},
   "source": [
    "# "
   ]
  },
  {
   "cell_type": "markdown",
   "id": "bd990476",
   "metadata": {},
   "source": [
    "#### Based on our analysis, the year 2011 showcased the United Kingdom as the top-performing region in sales. To delve deeper, let's explore the combinations of items frequently purchased in the UK"
   ]
  },
  {
   "cell_type": "markdown",
   "id": "01cc2748",
   "metadata": {},
   "source": [
    "#              Frequent Itemset Mining\n",
    "\n",
    "\n",
    "Frequent Itemset Mining involves identifying combinations of items that frequently occur together within a dataset. Consider a toy box with cars, dolls, blocks, and more. Sometimes, cars and race tracks are frequently seen together during playtime. These common combinations are termed \"frequent itemsets\" - groups of items that regularly appear together.\n",
    "\n",
    "Discovering these item groups allows us to comprehend consumer preferences or usage patterns. For instance, knowing that customers often purchase chips and soda together in a store helps optimize product placement and aids in understanding customer preferences.\n",
    "\n",
    "### Key Concepts of Itemset Mining\n",
    "\n",
    "\n",
    "\n",
    "##### Minimum Threshold:\n",
    "The minimum threshold, often called the support threshold, determines the minimum occurrence frequency required for an itemset to be considered frequent. It's set to filter out itemsets that occur less frequently than the threshold. Adjusting this threshold impacts the number and significance of discovered itemsets in the mining process.\n",
    "\n",
    "\n",
    "##### Association Rules: \n",
    "Association Rules are used to find relationships between itemsets. For example, the first association rule can be read as- “If a person buys milk and bread, then they will also buy butter”.\n",
    "\n",
    "##### Antecedent: \n",
    "The antecedent is the itemset that comes in the ‘If’ part of the association rule. In the first association rule, the antecedent is Milk and Bread.\n",
    "\n",
    "##### Consequent:\n",
    "The consequent is the itemset that comes in the ‘Then’ part of the association rule. In the first association rule, the consequent is Butter.\n",
    "\n",
    "##### support:\n",
    "Support in frequent itemset mining indicates the frequency or occurrence of an itemset in a dataset. It's calculated as the ratio of the number of transactions where the itemset appears to the total number of transactions. Higher support values signify that the itemset appears frequently in the dataset. It helps in identifying the most common itemsets or combinations of items in a dataset.\n",
    "\n",
    "Support(X)= support(X)/Total_Transactions(N)\n",
    " \n",
    "\n",
    "##### Confidence:\n",
    "Confidence in association rules measures the likelihood that if item A is purchased, item B will also be purchased. It's calculated as the ratio of the support for both items together to the support of item A alone. High confidence implies a strong association between items.\n",
    "\n",
    "Confidence(X→Y)= Support(X)/Support(X∪Y)\n",
    "\n",
    "##### lift: \n",
    "Represents the ratio of observed support to the expected support if the antecedent and consequent were independent.\n",
    "Lift = Confidence (antecedent -> consequent) / Support(antecedent)\n",
    "\n",
    "##### leverage:\n",
    "Indicates the difference between the observed frequency of antecedent and consequent appearing together and the frequency that would be expected if they were independent.\n",
    "\n",
    "##### conviction: \n",
    "Calculates the dependency of the consequent on the antecedent.\n",
    "\n",
    "##### zhangs_metric:\n",
    "This might represent a specific measure or metric related to association rule mining, but without further context, it's difficult to provide specific details about it.\n",
    "\n",
    "\n",
    "##### Application Areas of Frequent Itemset Mining are\n",
    "Supermarkets: Helps optimize product placement for increased sales.\n",
    "Online Shopping: Recommends products based on customers' buying patterns.\n",
    "Healthcare: Identifies frequent co-occurrences of symptoms in patients for better diagnosis.\n",
    "\n",
    "\n",
    "### The two most commonly used algorithms for Frequent Itemset Mining are apriori and fp-growth.\n",
    "\n",
    "#### Apriori Algorithm:\n",
    "\n",
    "Step 1: Candidate Itemset Generation: Initially identifies frequent individual items (1-itemsets) in the dataset.    \n",
    "Step 2: Joining and Pruning: Generates larger candidate itemsets by joining smaller frequent itemsets and pruning infrequent ones based on a minimum support threshold.   \n",
    "Step 3: Repeats: Iteratively applies the join and prune steps to generate larger itemsets until no more can be formed.   \n",
    "\n",
    "##### Advantages:      \n",
    "Easy to understand and implement.\n",
    "Guarantees to find all frequent itemsets.\n",
    "Works well for small or medium-sized datasets.\n",
    "\n",
    "##### Disadvantages:      \n",
    "Computationally expensive for large datasets due to multiple scans of the data.\n",
    "Generates a vast number of candidate itemsets, leading to higher memory requirements.\n",
    "\n",
    "\n",
    "#### FP-Growth Algorithm:    \n",
    "Utilizes a tree-like structure called the FP-Tree to encode the dataset efficiently.\n",
    "\n",
    "Step 1: FP-Tree Construction: Builds an FP-Tree by encoding transactions and their itemsets.     \n",
    "Step 2: Mining Frequent Itemsets: Condenses the FP-Tree and recursively mines frequent itemsets from its structure.    \n",
    "\n",
    "##### Advantages:     \n",
    "Requires only two scans of the dataset, making it faster than Apriori.     \n",
    "Consumes less memory as it compresses the dataset into a tree structure.     \n",
    "Efficient for large datasets and high-dimensional data.\n",
    "\n",
    "##### Disadvantages:    \n",
    "More complex to understand and implement than Apriori.\n",
    "Can be less efficient for datasets with very low support thresholds or extremely dense datasets.\n",
    "Both algorithms are significant in discovering frequent itemsets, but FP-Growth tends to outperform Apriori for larger datasets due to its reduced number of scans and memory usage. "
   ]
  },
  {
   "cell_type": "markdown",
   "id": "f08267ff",
   "metadata": {},
   "source": [
    "#### installing libraries\n",
    "the mlxtend library in Python, which provides implementations for various machine learning algorithms, including Apriori. First, you need to install the library if you haven't already:"
   ]
  },
  {
   "cell_type": "markdown",
   "id": "7ddda4c0",
   "metadata": {},
   "source": [
    "#### the following code filters the DataFrame based on items and bill numbers such that it retains only rows where both the item names and bill numbers occur more than once in the original dataset. This filtering operation helps focus the analysis on items and transactions that have multiple occurrences."
   ]
  },
  {
   "cell_type": "code",
   "execution_count": 34,
   "id": "70d863cc",
   "metadata": {},
   "outputs": [],
   "source": [
    "df=data_frame\n",
    "# Filterring rows based on item occurrences\n",
    "item_counts = df['Itemname'].value_counts(ascending=False)\n",
    "filtered_items = item_counts.loc[item_counts > 1].reset_index()['index']\n",
    "df = df[df['Itemname'].isin(filtered_items)]\n",
    "\n",
    "# Filter rows based on bill number occurrences\n",
    "bill_counts = df['BillNo'].value_counts(ascending=False)\n",
    "filtered_bills = bill_counts.loc[bill_counts > 1].reset_index()['index']\n",
    "df = df[df['BillNo'].isin(filtered_bills)]"
   ]
  },
  {
   "cell_type": "markdown",
   "id": "560e2135",
   "metadata": {},
   "source": [
    "We creates a pivot table from the filtered DataFrame where each row represents a unique transaction ('BillNo'), each column represents an item ('Itemname'), and the presence of an item in a transaction is marked as True, while the absence is marked as False. This pivot table will help in performing association rule mining or analyzing item co-occurrences in transactions."
   ]
  },
  {
   "cell_type": "code",
   "execution_count": 35,
   "id": "a840283a",
   "metadata": {
    "scrolled": true
   },
   "outputs": [
    {
     "data": {
      "text/html": [
       "<div>\n",
       "<style scoped>\n",
       "    .dataframe tbody tr th:only-of-type {\n",
       "        vertical-align: middle;\n",
       "    }\n",
       "\n",
       "    .dataframe tbody tr th {\n",
       "        vertical-align: top;\n",
       "    }\n",
       "\n",
       "    .dataframe thead th {\n",
       "        text-align: right;\n",
       "    }\n",
       "</style>\n",
       "<table border=\"1\" class=\"dataframe\">\n",
       "  <thead>\n",
       "    <tr style=\"text-align: right;\">\n",
       "      <th>Itemname</th>\n",
       "      <th>10 COLOUR SPACEBOY PEN</th>\n",
       "      <th>12 COLOURED PARTY BALLOONS</th>\n",
       "      <th>12 DAISY PEGS IN WOOD BOX</th>\n",
       "      <th>12 EGG HOUSE PAINTED WOOD</th>\n",
       "      <th>12 HANGING EGGS HAND PAINTED</th>\n",
       "      <th>12 IVORY ROSE PEG PLACE SETTINGS</th>\n",
       "      <th>12 MESSAGE CARDS WITH ENVELOPES</th>\n",
       "      <th>12 PENCIL SMALL TUBE WOODLAND</th>\n",
       "      <th>12 PENCILS SMALL TUBE RED RETROSPOT</th>\n",
       "      <th>12 PENCILS SMALL TUBE SKULL</th>\n",
       "      <th>...</th>\n",
       "      <th>ZINC METAL HEART DECORATION</th>\n",
       "      <th>ZINC SWEETHEART SOAP DISH</th>\n",
       "      <th>ZINC SWEETHEART WIRE LETTER RACK</th>\n",
       "      <th>ZINC T-LIGHT HOLDER STAR LARGE</th>\n",
       "      <th>ZINC T-LIGHT HOLDER STARS LARGE</th>\n",
       "      <th>ZINC T-LIGHT HOLDER STARS SMALL</th>\n",
       "      <th>ZINC TOP  2 DOOR WOODEN SHELF</th>\n",
       "      <th>ZINC WILLIE WINKIE  CANDLE STICK</th>\n",
       "      <th>ZINC WIRE KITCHEN ORGANISER</th>\n",
       "      <th>ZINC WIRE SWEETHEART LETTER TRAY</th>\n",
       "    </tr>\n",
       "    <tr>\n",
       "      <th>BillNo</th>\n",
       "      <th></th>\n",
       "      <th></th>\n",
       "      <th></th>\n",
       "      <th></th>\n",
       "      <th></th>\n",
       "      <th></th>\n",
       "      <th></th>\n",
       "      <th></th>\n",
       "      <th></th>\n",
       "      <th></th>\n",
       "      <th></th>\n",
       "      <th></th>\n",
       "      <th></th>\n",
       "      <th></th>\n",
       "      <th></th>\n",
       "      <th></th>\n",
       "      <th></th>\n",
       "      <th></th>\n",
       "      <th></th>\n",
       "      <th></th>\n",
       "      <th></th>\n",
       "    </tr>\n",
       "  </thead>\n",
       "  <tbody>\n",
       "    <tr>\n",
       "      <th>539993</th>\n",
       "      <td>False</td>\n",
       "      <td>False</td>\n",
       "      <td>False</td>\n",
       "      <td>False</td>\n",
       "      <td>False</td>\n",
       "      <td>False</td>\n",
       "      <td>False</td>\n",
       "      <td>False</td>\n",
       "      <td>False</td>\n",
       "      <td>False</td>\n",
       "      <td>...</td>\n",
       "      <td>False</td>\n",
       "      <td>False</td>\n",
       "      <td>False</td>\n",
       "      <td>False</td>\n",
       "      <td>False</td>\n",
       "      <td>False</td>\n",
       "      <td>False</td>\n",
       "      <td>False</td>\n",
       "      <td>False</td>\n",
       "      <td>False</td>\n",
       "    </tr>\n",
       "    <tr>\n",
       "      <th>540001</th>\n",
       "      <td>False</td>\n",
       "      <td>False</td>\n",
       "      <td>False</td>\n",
       "      <td>False</td>\n",
       "      <td>False</td>\n",
       "      <td>False</td>\n",
       "      <td>False</td>\n",
       "      <td>False</td>\n",
       "      <td>False</td>\n",
       "      <td>False</td>\n",
       "      <td>...</td>\n",
       "      <td>False</td>\n",
       "      <td>False</td>\n",
       "      <td>False</td>\n",
       "      <td>False</td>\n",
       "      <td>False</td>\n",
       "      <td>False</td>\n",
       "      <td>False</td>\n",
       "      <td>False</td>\n",
       "      <td>False</td>\n",
       "      <td>False</td>\n",
       "    </tr>\n",
       "    <tr>\n",
       "      <th>540002</th>\n",
       "      <td>False</td>\n",
       "      <td>False</td>\n",
       "      <td>False</td>\n",
       "      <td>False</td>\n",
       "      <td>False</td>\n",
       "      <td>False</td>\n",
       "      <td>False</td>\n",
       "      <td>False</td>\n",
       "      <td>False</td>\n",
       "      <td>False</td>\n",
       "      <td>...</td>\n",
       "      <td>False</td>\n",
       "      <td>False</td>\n",
       "      <td>False</td>\n",
       "      <td>False</td>\n",
       "      <td>False</td>\n",
       "      <td>False</td>\n",
       "      <td>False</td>\n",
       "      <td>False</td>\n",
       "      <td>False</td>\n",
       "      <td>False</td>\n",
       "    </tr>\n",
       "    <tr>\n",
       "      <th>540003</th>\n",
       "      <td>False</td>\n",
       "      <td>False</td>\n",
       "      <td>False</td>\n",
       "      <td>False</td>\n",
       "      <td>False</td>\n",
       "      <td>False</td>\n",
       "      <td>False</td>\n",
       "      <td>False</td>\n",
       "      <td>False</td>\n",
       "      <td>False</td>\n",
       "      <td>...</td>\n",
       "      <td>False</td>\n",
       "      <td>False</td>\n",
       "      <td>False</td>\n",
       "      <td>False</td>\n",
       "      <td>False</td>\n",
       "      <td>False</td>\n",
       "      <td>False</td>\n",
       "      <td>False</td>\n",
       "      <td>False</td>\n",
       "      <td>False</td>\n",
       "    </tr>\n",
       "    <tr>\n",
       "      <th>540005</th>\n",
       "      <td>False</td>\n",
       "      <td>False</td>\n",
       "      <td>False</td>\n",
       "      <td>False</td>\n",
       "      <td>False</td>\n",
       "      <td>False</td>\n",
       "      <td>False</td>\n",
       "      <td>False</td>\n",
       "      <td>False</td>\n",
       "      <td>False</td>\n",
       "      <td>...</td>\n",
       "      <td>False</td>\n",
       "      <td>False</td>\n",
       "      <td>False</td>\n",
       "      <td>False</td>\n",
       "      <td>False</td>\n",
       "      <td>False</td>\n",
       "      <td>False</td>\n",
       "      <td>False</td>\n",
       "      <td>False</td>\n",
       "      <td>False</td>\n",
       "    </tr>\n",
       "    <tr>\n",
       "      <th>...</th>\n",
       "      <td>...</td>\n",
       "      <td>...</td>\n",
       "      <td>...</td>\n",
       "      <td>...</td>\n",
       "      <td>...</td>\n",
       "      <td>...</td>\n",
       "      <td>...</td>\n",
       "      <td>...</td>\n",
       "      <td>...</td>\n",
       "      <td>...</td>\n",
       "      <td>...</td>\n",
       "      <td>...</td>\n",
       "      <td>...</td>\n",
       "      <td>...</td>\n",
       "      <td>...</td>\n",
       "      <td>...</td>\n",
       "      <td>...</td>\n",
       "      <td>...</td>\n",
       "      <td>...</td>\n",
       "      <td>...</td>\n",
       "      <td>...</td>\n",
       "    </tr>\n",
       "    <tr>\n",
       "      <th>572053</th>\n",
       "      <td>False</td>\n",
       "      <td>False</td>\n",
       "      <td>False</td>\n",
       "      <td>False</td>\n",
       "      <td>False</td>\n",
       "      <td>False</td>\n",
       "      <td>False</td>\n",
       "      <td>False</td>\n",
       "      <td>False</td>\n",
       "      <td>False</td>\n",
       "      <td>...</td>\n",
       "      <td>False</td>\n",
       "      <td>False</td>\n",
       "      <td>False</td>\n",
       "      <td>False</td>\n",
       "      <td>False</td>\n",
       "      <td>False</td>\n",
       "      <td>False</td>\n",
       "      <td>False</td>\n",
       "      <td>False</td>\n",
       "      <td>False</td>\n",
       "    </tr>\n",
       "    <tr>\n",
       "      <th>572054</th>\n",
       "      <td>False</td>\n",
       "      <td>False</td>\n",
       "      <td>False</td>\n",
       "      <td>False</td>\n",
       "      <td>False</td>\n",
       "      <td>False</td>\n",
       "      <td>False</td>\n",
       "      <td>False</td>\n",
       "      <td>False</td>\n",
       "      <td>False</td>\n",
       "      <td>...</td>\n",
       "      <td>False</td>\n",
       "      <td>False</td>\n",
       "      <td>False</td>\n",
       "      <td>False</td>\n",
       "      <td>False</td>\n",
       "      <td>False</td>\n",
       "      <td>False</td>\n",
       "      <td>False</td>\n",
       "      <td>False</td>\n",
       "      <td>False</td>\n",
       "    </tr>\n",
       "    <tr>\n",
       "      <th>572055</th>\n",
       "      <td>False</td>\n",
       "      <td>False</td>\n",
       "      <td>False</td>\n",
       "      <td>False</td>\n",
       "      <td>False</td>\n",
       "      <td>False</td>\n",
       "      <td>False</td>\n",
       "      <td>False</td>\n",
       "      <td>False</td>\n",
       "      <td>False</td>\n",
       "      <td>...</td>\n",
       "      <td>False</td>\n",
       "      <td>False</td>\n",
       "      <td>False</td>\n",
       "      <td>False</td>\n",
       "      <td>False</td>\n",
       "      <td>False</td>\n",
       "      <td>False</td>\n",
       "      <td>False</td>\n",
       "      <td>False</td>\n",
       "      <td>False</td>\n",
       "    </tr>\n",
       "    <tr>\n",
       "      <th>572057</th>\n",
       "      <td>False</td>\n",
       "      <td>False</td>\n",
       "      <td>False</td>\n",
       "      <td>False</td>\n",
       "      <td>False</td>\n",
       "      <td>False</td>\n",
       "      <td>False</td>\n",
       "      <td>False</td>\n",
       "      <td>False</td>\n",
       "      <td>False</td>\n",
       "      <td>...</td>\n",
       "      <td>False</td>\n",
       "      <td>False</td>\n",
       "      <td>False</td>\n",
       "      <td>False</td>\n",
       "      <td>False</td>\n",
       "      <td>False</td>\n",
       "      <td>False</td>\n",
       "      <td>False</td>\n",
       "      <td>False</td>\n",
       "      <td>False</td>\n",
       "    </tr>\n",
       "    <tr>\n",
       "      <th>572058</th>\n",
       "      <td>False</td>\n",
       "      <td>False</td>\n",
       "      <td>False</td>\n",
       "      <td>False</td>\n",
       "      <td>False</td>\n",
       "      <td>False</td>\n",
       "      <td>False</td>\n",
       "      <td>False</td>\n",
       "      <td>False</td>\n",
       "      <td>False</td>\n",
       "      <td>...</td>\n",
       "      <td>False</td>\n",
       "      <td>False</td>\n",
       "      <td>False</td>\n",
       "      <td>False</td>\n",
       "      <td>False</td>\n",
       "      <td>False</td>\n",
       "      <td>False</td>\n",
       "      <td>False</td>\n",
       "      <td>False</td>\n",
       "      <td>False</td>\n",
       "    </tr>\n",
       "  </tbody>\n",
       "</table>\n",
       "<p>16547 rows × 3739 columns</p>\n",
       "</div>"
      ],
      "text/plain": [
       "Itemname  10 COLOUR SPACEBOY PEN  12 COLOURED PARTY BALLOONS  \\\n",
       "BillNo                                                         \n",
       "539993                     False                       False   \n",
       "540001                     False                       False   \n",
       "540002                     False                       False   \n",
       "540003                     False                       False   \n",
       "540005                     False                       False   \n",
       "...                          ...                         ...   \n",
       "572053                     False                       False   \n",
       "572054                     False                       False   \n",
       "572055                     False                       False   \n",
       "572057                     False                       False   \n",
       "572058                     False                       False   \n",
       "\n",
       "Itemname  12 DAISY PEGS IN WOOD BOX  12 EGG HOUSE PAINTED WOOD  \\\n",
       "BillNo                                                           \n",
       "539993                        False                      False   \n",
       "540001                        False                      False   \n",
       "540002                        False                      False   \n",
       "540003                        False                      False   \n",
       "540005                        False                      False   \n",
       "...                             ...                        ...   \n",
       "572053                        False                      False   \n",
       "572054                        False                      False   \n",
       "572055                        False                      False   \n",
       "572057                        False                      False   \n",
       "572058                        False                      False   \n",
       "\n",
       "Itemname  12 HANGING EGGS HAND PAINTED  12 IVORY ROSE PEG PLACE SETTINGS  \\\n",
       "BillNo                                                                     \n",
       "539993                           False                             False   \n",
       "540001                           False                             False   \n",
       "540002                           False                             False   \n",
       "540003                           False                             False   \n",
       "540005                           False                             False   \n",
       "...                                ...                               ...   \n",
       "572053                           False                             False   \n",
       "572054                           False                             False   \n",
       "572055                           False                             False   \n",
       "572057                           False                             False   \n",
       "572058                           False                             False   \n",
       "\n",
       "Itemname  12 MESSAGE CARDS WITH ENVELOPES  12 PENCIL SMALL TUBE WOODLAND  \\\n",
       "BillNo                                                                     \n",
       "539993                              False                          False   \n",
       "540001                              False                          False   \n",
       "540002                              False                          False   \n",
       "540003                              False                          False   \n",
       "540005                              False                          False   \n",
       "...                                   ...                            ...   \n",
       "572053                              False                          False   \n",
       "572054                              False                          False   \n",
       "572055                              False                          False   \n",
       "572057                              False                          False   \n",
       "572058                              False                          False   \n",
       "\n",
       "Itemname  12 PENCILS SMALL TUBE RED RETROSPOT  12 PENCILS SMALL TUBE SKULL  \\\n",
       "BillNo                                                                       \n",
       "539993                                  False                        False   \n",
       "540001                                  False                        False   \n",
       "540002                                  False                        False   \n",
       "540003                                  False                        False   \n",
       "540005                                  False                        False   \n",
       "...                                       ...                          ...   \n",
       "572053                                  False                        False   \n",
       "572054                                  False                        False   \n",
       "572055                                  False                        False   \n",
       "572057                                  False                        False   \n",
       "572058                                  False                        False   \n",
       "\n",
       "Itemname  ...  ZINC METAL HEART DECORATION  ZINC SWEETHEART SOAP DISH  \\\n",
       "BillNo    ...                                                           \n",
       "539993    ...                        False                      False   \n",
       "540001    ...                        False                      False   \n",
       "540002    ...                        False                      False   \n",
       "540003    ...                        False                      False   \n",
       "540005    ...                        False                      False   \n",
       "...       ...                          ...                        ...   \n",
       "572053    ...                        False                      False   \n",
       "572054    ...                        False                      False   \n",
       "572055    ...                        False                      False   \n",
       "572057    ...                        False                      False   \n",
       "572058    ...                        False                      False   \n",
       "\n",
       "Itemname  ZINC SWEETHEART WIRE LETTER RACK  ZINC T-LIGHT HOLDER STAR LARGE  \\\n",
       "BillNo                                                                       \n",
       "539993                               False                           False   \n",
       "540001                               False                           False   \n",
       "540002                               False                           False   \n",
       "540003                               False                           False   \n",
       "540005                               False                           False   \n",
       "...                                    ...                             ...   \n",
       "572053                               False                           False   \n",
       "572054                               False                           False   \n",
       "572055                               False                           False   \n",
       "572057                               False                           False   \n",
       "572058                               False                           False   \n",
       "\n",
       "Itemname  ZINC T-LIGHT HOLDER STARS LARGE  ZINC T-LIGHT HOLDER STARS SMALL  \\\n",
       "BillNo                                                                       \n",
       "539993                              False                            False   \n",
       "540001                              False                            False   \n",
       "540002                              False                            False   \n",
       "540003                              False                            False   \n",
       "540005                              False                            False   \n",
       "...                                   ...                              ...   \n",
       "572053                              False                            False   \n",
       "572054                              False                            False   \n",
       "572055                              False                            False   \n",
       "572057                              False                            False   \n",
       "572058                              False                            False   \n",
       "\n",
       "Itemname  ZINC TOP  2 DOOR WOODEN SHELF  ZINC WILLIE WINKIE  CANDLE STICK  \\\n",
       "BillNo                                                                      \n",
       "539993                            False                             False   \n",
       "540001                            False                             False   \n",
       "540002                            False                             False   \n",
       "540003                            False                             False   \n",
       "540005                            False                             False   \n",
       "...                                 ...                               ...   \n",
       "572053                            False                             False   \n",
       "572054                            False                             False   \n",
       "572055                            False                             False   \n",
       "572057                            False                             False   \n",
       "572058                            False                             False   \n",
       "\n",
       "Itemname  ZINC WIRE KITCHEN ORGANISER  ZINC WIRE SWEETHEART LETTER TRAY  \n",
       "BillNo                                                                   \n",
       "539993                          False                             False  \n",
       "540001                          False                             False  \n",
       "540002                          False                             False  \n",
       "540003                          False                             False  \n",
       "540005                          False                             False  \n",
       "...                               ...                               ...  \n",
       "572053                          False                             False  \n",
       "572054                          False                             False  \n",
       "572055                          False                             False  \n",
       "572057                          False                             False  \n",
       "572058                          False                             False  \n",
       "\n",
       "[16547 rows x 3739 columns]"
      ]
     },
     "execution_count": 35,
     "metadata": {},
     "output_type": "execute_result"
    }
   ],
   "source": [
    "pivot_table = pd.pivot_table(df[['BillNo','Itemname']], index='BillNo', columns='Itemname', aggfunc=lambda x: True, fill_value=False)\n",
    "pivot_table"
   ]
  },
  {
   "cell_type": "code",
   "execution_count": 36,
   "id": "4aa5a4a9",
   "metadata": {},
   "outputs": [],
   "source": [
    "# pip install mlxtend"
   ]
  },
  {
   "cell_type": "code",
   "execution_count": 37,
   "id": "c45ba661",
   "metadata": {},
   "outputs": [],
   "source": [
    "from mlxtend.frequent_patterns import apriori\n",
    "from mlxtend.frequent_patterns import association_rules"
   ]
  },
  {
   "cell_type": "markdown",
   "id": "f85d3635",
   "metadata": {},
   "source": [
    "## Generating frequent iteemset "
   ]
  },
  {
   "cell_type": "code",
   "execution_count": 38,
   "id": "64ad34c9",
   "metadata": {},
   "outputs": [
    {
     "name": "stdout",
     "output_type": "stream",
     "text": [
      "Frequent Itemsets:\n",
      "       support                                           itemsets\n",
      "0     0.016680                           (10 COLOUR SPACEBOY PEN)\n",
      "1     0.013054                  (12 MESSAGE CARDS WITH ENVELOPES)\n",
      "2     0.018795                    (12 PENCIL SMALL TUBE WOODLAND)\n",
      "3     0.018070              (12 PENCILS SMALL TUBE RED RETROSPOT)\n",
      "4     0.018614                      (12 PENCILS SMALL TUBE SKULL)\n",
      "...        ...                                                ...\n",
      "2455  0.010757  (LUNCH BAG RED RETROSPOT, LUNCH BAG SPACEBOY D...\n",
      "2456  0.010576  (LUNCH BAG RED RETROSPOT, LUNCH BAG PINK POLKA...\n",
      "2457  0.010153  (LUNCH BAG RED RETROSPOT, LUNCH BAG SPACEBOY D...\n",
      "2458  0.011120  (WOODLAND CHARLOTTE BAG, CHARLOTTE BAG PINK PO...\n",
      "2459  0.010213  (JUMBO BAG PINK POLKADOT, JUMBO STORAGE BAG SU...\n",
      "\n",
      "[2460 rows x 2 columns]\n"
     ]
    }
   ],
   "source": [
    "frequent_itemsets = apriori(pivot_table, min_support=0.01,use_colnames=True)\n",
    "print(\"Frequent Itemsets:\")\n",
    "print(frequent_itemsets)"
   ]
  },
  {
   "cell_type": "markdown",
   "id": "a03dc362",
   "metadata": {},
   "source": [
    "## Generating association rules"
   ]
  },
  {
   "cell_type": "code",
   "execution_count": 39,
   "id": "c6f76055",
   "metadata": {},
   "outputs": [
    {
     "name": "stdout",
     "output_type": "stream",
     "text": [
      "\n",
      "Association Rules:\n"
     ]
    },
    {
     "data": {
      "text/html": [
       "<div>\n",
       "<style scoped>\n",
       "    .dataframe tbody tr th:only-of-type {\n",
       "        vertical-align: middle;\n",
       "    }\n",
       "\n",
       "    .dataframe tbody tr th {\n",
       "        vertical-align: top;\n",
       "    }\n",
       "\n",
       "    .dataframe thead th {\n",
       "        text-align: right;\n",
       "    }\n",
       "</style>\n",
       "<table border=\"1\" class=\"dataframe\">\n",
       "  <thead>\n",
       "    <tr style=\"text-align: right;\">\n",
       "      <th></th>\n",
       "      <th>antecedents</th>\n",
       "      <th>consequents</th>\n",
       "      <th>antecedent support</th>\n",
       "      <th>consequent support</th>\n",
       "      <th>support</th>\n",
       "      <th>confidence</th>\n",
       "      <th>lift</th>\n",
       "      <th>leverage</th>\n",
       "      <th>conviction</th>\n",
       "      <th>zhangs_metric</th>\n",
       "    </tr>\n",
       "  </thead>\n",
       "  <tbody>\n",
       "    <tr>\n",
       "      <th>0</th>\n",
       "      <td>(6 GIFT TAGS 50'S CHRISTMAS)</td>\n",
       "      <td>(ROLL WRAP 50'S CHRISTMAS)</td>\n",
       "      <td>0.019097</td>\n",
       "      <td>0.021152</td>\n",
       "      <td>0.010092</td>\n",
       "      <td>0.528481</td>\n",
       "      <td>24.985072</td>\n",
       "      <td>0.009689</td>\n",
       "      <td>2.075946</td>\n",
       "      <td>0.978666</td>\n",
       "    </tr>\n",
       "    <tr>\n",
       "      <th>1</th>\n",
       "      <td>(60 CAKE CASES DOLLY GIRL DESIGN)</td>\n",
       "      <td>(PACK OF 72 RETROSPOT CAKE CASES)</td>\n",
       "      <td>0.023267</td>\n",
       "      <td>0.071433</td>\n",
       "      <td>0.013114</td>\n",
       "      <td>0.563636</td>\n",
       "      <td>7.890432</td>\n",
       "      <td>0.011452</td>\n",
       "      <td>2.127966</td>\n",
       "      <td>0.894067</td>\n",
       "    </tr>\n",
       "    <tr>\n",
       "      <th>2</th>\n",
       "      <td>(60 TEATIME FAIRY CAKE CASES)</td>\n",
       "      <td>(PACK OF 72 RETROSPOT CAKE CASES)</td>\n",
       "      <td>0.044358</td>\n",
       "      <td>0.071433</td>\n",
       "      <td>0.023811</td>\n",
       "      <td>0.536785</td>\n",
       "      <td>7.514532</td>\n",
       "      <td>0.020642</td>\n",
       "      <td>2.004613</td>\n",
       "      <td>0.907165</td>\n",
       "    </tr>\n",
       "    <tr>\n",
       "      <th>3</th>\n",
       "      <td>(ALARM CLOCK BAKELIKE CHOCOLATE)</td>\n",
       "      <td>(ALARM CLOCK BAKELIKE GREEN)</td>\n",
       "      <td>0.023086</td>\n",
       "      <td>0.052154</td>\n",
       "      <td>0.014806</td>\n",
       "      <td>0.641361</td>\n",
       "      <td>12.297340</td>\n",
       "      <td>0.013602</td>\n",
       "      <td>2.642898</td>\n",
       "      <td>0.940391</td>\n",
       "    </tr>\n",
       "    <tr>\n",
       "      <th>4</th>\n",
       "      <td>(ALARM CLOCK BAKELIKE CHOCOLATE)</td>\n",
       "      <td>(ALARM CLOCK BAKELIKE RED)</td>\n",
       "      <td>0.023086</td>\n",
       "      <td>0.056929</td>\n",
       "      <td>0.015532</td>\n",
       "      <td>0.672775</td>\n",
       "      <td>11.817841</td>\n",
       "      <td>0.014217</td>\n",
       "      <td>2.882026</td>\n",
       "      <td>0.937014</td>\n",
       "    </tr>\n",
       "    <tr>\n",
       "      <th>...</th>\n",
       "      <td>...</td>\n",
       "      <td>...</td>\n",
       "      <td>...</td>\n",
       "      <td>...</td>\n",
       "      <td>...</td>\n",
       "      <td>...</td>\n",
       "      <td>...</td>\n",
       "      <td>...</td>\n",
       "      <td>...</td>\n",
       "      <td>...</td>\n",
       "    </tr>\n",
       "    <tr>\n",
       "      <th>1485</th>\n",
       "      <td>(JUMBO BAG PINK POLKADOT, JUMBO BAG WOODLAND A...</td>\n",
       "      <td>(JUMBO BAG RED RETROSPOT, JUMBO STORAGE BAG SUKI)</td>\n",
       "      <td>0.014988</td>\n",
       "      <td>0.041397</td>\n",
       "      <td>0.010213</td>\n",
       "      <td>0.681452</td>\n",
       "      <td>16.461284</td>\n",
       "      <td>0.009593</td>\n",
       "      <td>3.009285</td>\n",
       "      <td>0.953543</td>\n",
       "    </tr>\n",
       "    <tr>\n",
       "      <th>1486</th>\n",
       "      <td>(JUMBO BAG PINK POLKADOT, JUMBO BAG WOODLAND A...</td>\n",
       "      <td>(JUMBO SHOPPER VINTAGE RED PAISLEY, JUMBO STOR...</td>\n",
       "      <td>0.019762</td>\n",
       "      <td>0.030036</td>\n",
       "      <td>0.010213</td>\n",
       "      <td>0.516820</td>\n",
       "      <td>17.206868</td>\n",
       "      <td>0.009620</td>\n",
       "      <td>2.007458</td>\n",
       "      <td>0.960872</td>\n",
       "    </tr>\n",
       "    <tr>\n",
       "      <th>1487</th>\n",
       "      <td>(JUMBO SHOPPER VINTAGE RED PAISLEY, JUMBO BAG ...</td>\n",
       "      <td>(JUMBO BAG PINK POLKADOT, JUMBO BAG RED RETROS...</td>\n",
       "      <td>0.015713</td>\n",
       "      <td>0.047078</td>\n",
       "      <td>0.010213</td>\n",
       "      <td>0.650000</td>\n",
       "      <td>13.806868</td>\n",
       "      <td>0.009474</td>\n",
       "      <td>2.722634</td>\n",
       "      <td>0.942380</td>\n",
       "    </tr>\n",
       "    <tr>\n",
       "      <th>1488</th>\n",
       "      <td>(JUMBO BAG WOODLAND ANIMALS, JUMBO BAG RED RET...</td>\n",
       "      <td>(JUMBO BAG PINK POLKADOT, JUMBO SHOPPER VINTAG...</td>\n",
       "      <td>0.018916</td>\n",
       "      <td>0.027558</td>\n",
       "      <td>0.010213</td>\n",
       "      <td>0.539936</td>\n",
       "      <td>19.592813</td>\n",
       "      <td>0.009692</td>\n",
       "      <td>2.113711</td>\n",
       "      <td>0.967257</td>\n",
       "    </tr>\n",
       "    <tr>\n",
       "      <th>1489</th>\n",
       "      <td>(JUMBO SHOPPER VINTAGE RED PAISLEY, JUMBO BAG ...</td>\n",
       "      <td>(JUMBO BAG PINK POLKADOT, JUMBO STORAGE BAG SUKI)</td>\n",
       "      <td>0.017405</td>\n",
       "      <td>0.029733</td>\n",
       "      <td>0.010213</td>\n",
       "      <td>0.586806</td>\n",
       "      <td>19.735511</td>\n",
       "      <td>0.009696</td>\n",
       "      <td>2.348208</td>\n",
       "      <td>0.966146</td>\n",
       "    </tr>\n",
       "  </tbody>\n",
       "</table>\n",
       "<p>1490 rows × 10 columns</p>\n",
       "</div>"
      ],
      "text/plain": [
       "                                            antecedents  \\\n",
       "0                          (6 GIFT TAGS 50'S CHRISTMAS)   \n",
       "1                     (60 CAKE CASES DOLLY GIRL DESIGN)   \n",
       "2                         (60 TEATIME FAIRY CAKE CASES)   \n",
       "3                      (ALARM CLOCK BAKELIKE CHOCOLATE)   \n",
       "4                      (ALARM CLOCK BAKELIKE CHOCOLATE)   \n",
       "...                                                 ...   \n",
       "1485  (JUMBO BAG PINK POLKADOT, JUMBO BAG WOODLAND A...   \n",
       "1486  (JUMBO BAG PINK POLKADOT, JUMBO BAG WOODLAND A...   \n",
       "1487  (JUMBO SHOPPER VINTAGE RED PAISLEY, JUMBO BAG ...   \n",
       "1488  (JUMBO BAG WOODLAND ANIMALS, JUMBO BAG RED RET...   \n",
       "1489  (JUMBO SHOPPER VINTAGE RED PAISLEY, JUMBO BAG ...   \n",
       "\n",
       "                                            consequents  antecedent support  \\\n",
       "0                            (ROLL WRAP 50'S CHRISTMAS)            0.019097   \n",
       "1                     (PACK OF 72 RETROSPOT CAKE CASES)            0.023267   \n",
       "2                     (PACK OF 72 RETROSPOT CAKE CASES)            0.044358   \n",
       "3                          (ALARM CLOCK BAKELIKE GREEN)            0.023086   \n",
       "4                            (ALARM CLOCK BAKELIKE RED)            0.023086   \n",
       "...                                                 ...                 ...   \n",
       "1485  (JUMBO BAG RED RETROSPOT, JUMBO STORAGE BAG SUKI)            0.014988   \n",
       "1486  (JUMBO SHOPPER VINTAGE RED PAISLEY, JUMBO STOR...            0.019762   \n",
       "1487  (JUMBO BAG PINK POLKADOT, JUMBO BAG RED RETROS...            0.015713   \n",
       "1488  (JUMBO BAG PINK POLKADOT, JUMBO SHOPPER VINTAG...            0.018916   \n",
       "1489  (JUMBO BAG PINK POLKADOT, JUMBO STORAGE BAG SUKI)            0.017405   \n",
       "\n",
       "      consequent support   support  confidence       lift  leverage  \\\n",
       "0               0.021152  0.010092    0.528481  24.985072  0.009689   \n",
       "1               0.071433  0.013114    0.563636   7.890432  0.011452   \n",
       "2               0.071433  0.023811    0.536785   7.514532  0.020642   \n",
       "3               0.052154  0.014806    0.641361  12.297340  0.013602   \n",
       "4               0.056929  0.015532    0.672775  11.817841  0.014217   \n",
       "...                  ...       ...         ...        ...       ...   \n",
       "1485            0.041397  0.010213    0.681452  16.461284  0.009593   \n",
       "1486            0.030036  0.010213    0.516820  17.206868  0.009620   \n",
       "1487            0.047078  0.010213    0.650000  13.806868  0.009474   \n",
       "1488            0.027558  0.010213    0.539936  19.592813  0.009692   \n",
       "1489            0.029733  0.010213    0.586806  19.735511  0.009696   \n",
       "\n",
       "      conviction  zhangs_metric  \n",
       "0       2.075946       0.978666  \n",
       "1       2.127966       0.894067  \n",
       "2       2.004613       0.907165  \n",
       "3       2.642898       0.940391  \n",
       "4       2.882026       0.937014  \n",
       "...          ...            ...  \n",
       "1485    3.009285       0.953543  \n",
       "1486    2.007458       0.960872  \n",
       "1487    2.722634       0.942380  \n",
       "1488    2.113711       0.967257  \n",
       "1489    2.348208       0.966146  \n",
       "\n",
       "[1490 rows x 10 columns]"
      ]
     },
     "execution_count": 39,
     "metadata": {},
     "output_type": "execute_result"
    }
   ],
   "source": [
    "rules = association_rules(frequent_itemsets, \"confidence\", min_threshold = 0.5)\n",
    "print(\"\\nAssociation Rules:\")\n",
    "rules"
   ]
  },
  {
   "cell_type": "markdown",
   "id": "e27e7dfe",
   "metadata": {},
   "source": [
    "### The top 5 of the highest support value of items(antecedents)"
   ]
  },
  {
   "cell_type": "code",
   "execution_count": 55,
   "id": "c41f48af",
   "metadata": {},
   "outputs": [
    {
     "name": "stdout",
     "output_type": "stream",
     "text": [
      "      support                              itemsets\n",
      "838  0.118269  (WHITE HANGING HEART T-LIGHT HOLDER)\n",
      "372  0.116577             (JUMBO BAG RED RETROSPOT)\n",
      "592  0.103765            (REGENCY CAKESTAND 3 TIER)\n",
      "494  0.096271                       (PARTY BUNTING)\n",
      "413  0.087992             (LUNCH BAG RED RETROSPOT)\n",
      "54   0.080317       (ASSORTED COLOUR BIRD ORNAMENT)\n",
      "667  0.077416    (SET OF 3 CAKE TINS PANTRY DESIGN)\n"
     ]
    }
   ],
   "source": [
    "sorted_itemsets = frequent_itemsets.sort_values(by='support', ascending=False)\n",
    "top_7_itemsets = sorted_itemsets.head(7)\n",
    "print(top_7_itemsets)"
   ]
  },
  {
   "cell_type": "markdown",
   "id": "8ab55cd1",
   "metadata": {},
   "source": [
    "### The top 5 of the highest confidence value of items"
   ]
  },
  {
   "cell_type": "code",
   "execution_count": 56,
   "id": "259f4299",
   "metadata": {},
   "outputs": [
    {
     "name": "stdout",
     "output_type": "stream",
     "text": [
      "                                            antecedents  \\\n",
      "1203  (HERB MARKER MINT, HERB MARKER BASIL, HERB MAR...   \n",
      "1231  (HERB MARKER PARSLEY, HERB MARKER MINT, HERB M...   \n",
      "1217  (HERB MARKER PARSLEY, HERB MARKER BASIL, HERB ...   \n",
      "547               (HERB MARKER MINT, HERB MARKER THYME)   \n",
      "523             (HERB MARKER CHIVES, HERB MARKER THYME)   \n",
      "\n",
      "                 consequents  antecedent support  consequent support  \\\n",
      "1203  (HERB MARKER ROSEMARY)            0.010334            0.013114   \n",
      "1231  (HERB MARKER ROSEMARY)            0.010636            0.013114   \n",
      "1217  (HERB MARKER ROSEMARY)            0.010455            0.013114   \n",
      "547   (HERB MARKER ROSEMARY)            0.011362            0.013114   \n",
      "523    (HERB MARKER PARSLEY)            0.010455            0.012933   \n",
      "\n",
      "       support  confidence       lift  leverage  conviction  zhangs_metric  \n",
      "1203  0.010092    0.976608  74.469750  0.009957   42.189370       0.996874  \n",
      "1231  0.010334    0.971591  74.087165  0.010195   34.738382       0.997108  \n",
      "1217  0.010153    0.971098  74.049599  0.010016   34.146250       0.996918  \n",
      "547   0.010999    0.968085  73.819835  0.010850   30.922423       0.997790  \n",
      "523   0.010092    0.965318  74.640727  0.009957   28.460436       0.997026  \n"
     ]
    }
   ],
   "source": [
    "sorted_rules_by_confidence = rules.sort_values(by='confidence', ascending=False)\n",
    "top_10_rules_by_confidence = sorted_rules_by_confidence.head(10)\n",
    "print(top_5_rules_by_confidence)"
   ]
  },
  {
   "cell_type": "markdown",
   "id": "fc7d9c91",
   "metadata": {},
   "source": [
    "### The top 5 of the highest lift value of items"
   ]
  },
  {
   "cell_type": "code",
   "execution_count": 57,
   "id": "17bc677d",
   "metadata": {},
   "outputs": [
    {
     "name": "stdout",
     "output_type": "stream",
     "text": [
      "                                      antecedents  \\\n",
      "1237        (HERB MARKER MINT, HERB MARKER THYME)   \n",
      "1232  (HERB MARKER ROSEMARY, HERB MARKER PARSLEY)   \n",
      "1208        (HERB MARKER MINT, HERB MARKER THYME)   \n",
      "1205    (HERB MARKER ROSEMARY, HERB MARKER BASIL)   \n",
      "1234     (HERB MARKER ROSEMARY, HERB MARKER MINT)   \n",
      "1235     (HERB MARKER PARSLEY, HERB MARKER THYME)   \n",
      "1223       (HERB MARKER BASIL, HERB MARKER THYME)   \n",
      "1218  (HERB MARKER ROSEMARY, HERB MARKER PARSLEY)   \n",
      "1219    (HERB MARKER ROSEMARY, HERB MARKER BASIL)   \n",
      "1222     (HERB MARKER PARSLEY, HERB MARKER THYME)   \n",
      "\n",
      "                                      consequents  antecedent support  \\\n",
      "1237  (HERB MARKER ROSEMARY, HERB MARKER PARSLEY)            0.011362   \n",
      "1232        (HERB MARKER MINT, HERB MARKER THYME)            0.011785   \n",
      "1208    (HERB MARKER ROSEMARY, HERB MARKER BASIL)            0.011362   \n",
      "1205        (HERB MARKER MINT, HERB MARKER THYME)            0.011603   \n",
      "1234     (HERB MARKER PARSLEY, HERB MARKER THYME)            0.011724   \n",
      "1235     (HERB MARKER ROSEMARY, HERB MARKER MINT)            0.011603   \n",
      "1223  (HERB MARKER ROSEMARY, HERB MARKER PARSLEY)            0.011422   \n",
      "1218       (HERB MARKER BASIL, HERB MARKER THYME)            0.011785   \n",
      "1219     (HERB MARKER PARSLEY, HERB MARKER THYME)            0.011603   \n",
      "1222    (HERB MARKER ROSEMARY, HERB MARKER BASIL)            0.011603   \n",
      "\n",
      "      consequent support   support  confidence       lift  leverage  \\\n",
      "1237            0.011785  0.010334    0.909574  77.183224  0.010200   \n",
      "1232            0.011362  0.010334    0.876923  77.183224  0.010200   \n",
      "1208            0.011603  0.010092    0.888298  76.555546  0.009961   \n",
      "1205            0.011362  0.010092    0.869792  76.555546  0.009961   \n",
      "1234            0.011603  0.010334    0.881443  75.964803  0.010198   \n",
      "1235            0.011724  0.010334    0.890625  75.964803  0.010198   \n",
      "1223            0.011785  0.010153    0.888889  75.427920  0.010018   \n",
      "1218            0.011422  0.010153    0.861538  75.427920  0.010018   \n",
      "1219            0.011603  0.010153    0.875000  75.409505  0.010018   \n",
      "1222            0.011603  0.010153    0.875000  75.409505  0.010018   \n",
      "\n",
      "      conviction  zhangs_metric  \n",
      "1237   10.928500       0.998387  \n",
      "1232    8.032687       0.998814  \n",
      "1208    8.848504       0.998280  \n",
      "1205    7.592743       0.998524  \n",
      "1234    8.336911       0.998543  \n",
      "1235    9.035665       0.998421  \n",
      "1223    8.893938       0.998143  \n",
      "1218    7.139730       0.998509  \n",
      "1219    7.907174       0.998323  \n",
      "1222    7.907174       0.998323  \n"
     ]
    }
   ],
   "source": [
    "sorted_rules_by_lift = rules.sort_values(by='lift', ascending=False)\n",
    "top_10_rules_by_lift = sorted_rules_by_lift.head(10)\n",
    "print(top_10_rules_by_lift)"
   ]
  },
  {
   "cell_type": "markdown",
   "id": "22d37deb",
   "metadata": {},
   "source": [
    "# "
   ]
  },
  {
   "cell_type": "markdown",
   "id": "eb69cda5",
   "metadata": {},
   "source": [
    "# fp-growth"
   ]
  },
  {
   "cell_type": "code",
   "execution_count": 63,
   "id": "d9594dae",
   "metadata": {},
   "outputs": [],
   "source": [
    "from mlxtend.frequent_patterns import fpgrowth\n",
    "from mlxtend.frequent_patterns import association_rules"
   ]
  },
  {
   "cell_type": "markdown",
   "id": "58a31a0c",
   "metadata": {},
   "source": [
    "## Generating frequent iteemset "
   ]
  },
  {
   "cell_type": "code",
   "execution_count": 71,
   "id": "e8f4a80b",
   "metadata": {},
   "outputs": [
    {
     "name": "stdout",
     "output_type": "stream",
     "text": [
      "Frequent Itemsets:\n",
      "       support                                           itemsets\n",
      "0     0.118269               (WHITE HANGING HEART T-LIGHT HOLDER)\n",
      "1     0.116577                          (JUMBO BAG RED RETROSPOT)\n",
      "2     0.069680                          (JUMBO BAG PINK POLKADOT)\n",
      "3     0.058984                           (JAM MAKING SET PRINTED)\n",
      "4     0.041337                          (RECYCLING BAG RETROSPOT)\n",
      "...        ...                                                ...\n",
      "2455  0.010455  (JUMBO BAG VINTAGE DOILY, JUMBO BAG RED RETROS...\n",
      "2456  0.013054  (HAND WARMER OWL DESIGN, HAND WARMER RED LOVE ...\n",
      "2457  0.011905  (HAND WARMER SCOTTY DOG DESIGN, HAND WARMER RE...\n",
      "2458  0.010213  (HAND WARMER BIRD DESIGN, HAND WARMER RED LOVE...\n",
      "2459  0.010334  (ROLL WRAP 50'S CHRISTMAS, ROLL WRAP 50'S RED ...\n",
      "\n",
      "[2460 rows x 2 columns]\n"
     ]
    }
   ],
   "source": [
    "frequent_itemsets_fp= fpgrowth(pivot_table, min_support=0.01,use_colnames=True)\n",
    "print(\"Frequent Itemsets:\")\n",
    "print(frequent_itemsets_fp)"
   ]
  },
  {
   "cell_type": "code",
   "execution_count": 74,
   "id": "5ce636dc",
   "metadata": {},
   "outputs": [
    {
     "name": "stdout",
     "output_type": "stream",
     "text": [
      "\n",
      "Association Rules:\n"
     ]
    },
    {
     "data": {
      "text/html": [
       "<div>\n",
       "<style scoped>\n",
       "    .dataframe tbody tr th:only-of-type {\n",
       "        vertical-align: middle;\n",
       "    }\n",
       "\n",
       "    .dataframe tbody tr th {\n",
       "        vertical-align: top;\n",
       "    }\n",
       "\n",
       "    .dataframe thead th {\n",
       "        text-align: right;\n",
       "    }\n",
       "</style>\n",
       "<table border=\"1\" class=\"dataframe\">\n",
       "  <thead>\n",
       "    <tr style=\"text-align: right;\">\n",
       "      <th></th>\n",
       "      <th>antecedents</th>\n",
       "      <th>consequents</th>\n",
       "      <th>antecedent support</th>\n",
       "      <th>consequent support</th>\n",
       "      <th>support</th>\n",
       "      <th>confidence</th>\n",
       "      <th>lift</th>\n",
       "      <th>leverage</th>\n",
       "      <th>conviction</th>\n",
       "      <th>zhangs_metric</th>\n",
       "    </tr>\n",
       "  </thead>\n",
       "  <tbody>\n",
       "    <tr>\n",
       "      <th>0</th>\n",
       "      <td>(JUMBO BAG PINK POLKADOT)</td>\n",
       "      <td>(JUMBO BAG RED RETROSPOT)</td>\n",
       "      <td>0.069680</td>\n",
       "      <td>0.116577</td>\n",
       "      <td>0.047078</td>\n",
       "      <td>0.675629</td>\n",
       "      <td>5.795557</td>\n",
       "      <td>0.038955</td>\n",
       "      <td>2.723494</td>\n",
       "      <td>0.889430</td>\n",
       "    </tr>\n",
       "    <tr>\n",
       "      <th>1</th>\n",
       "      <td>(JUMBO BAG PINK POLKADOT, WHITE HANGING HEART ...</td>\n",
       "      <td>(JUMBO BAG RED RETROSPOT)</td>\n",
       "      <td>0.014504</td>\n",
       "      <td>0.116577</td>\n",
       "      <td>0.010213</td>\n",
       "      <td>0.704167</td>\n",
       "      <td>6.040356</td>\n",
       "      <td>0.008522</td>\n",
       "      <td>2.986219</td>\n",
       "      <td>0.846728</td>\n",
       "    </tr>\n",
       "    <tr>\n",
       "      <th>2</th>\n",
       "      <td>(LUNCH BAG RED RETROSPOT, JUMBO BAG PINK POLKA...</td>\n",
       "      <td>(JUMBO BAG RED RETROSPOT)</td>\n",
       "      <td>0.018191</td>\n",
       "      <td>0.116577</td>\n",
       "      <td>0.013960</td>\n",
       "      <td>0.767442</td>\n",
       "      <td>6.583131</td>\n",
       "      <td>0.011840</td>\n",
       "      <td>3.798719</td>\n",
       "      <td>0.863810</td>\n",
       "    </tr>\n",
       "    <tr>\n",
       "      <th>3</th>\n",
       "      <td>(JUMBO BAG PINK POLKADOT, LUNCH BAG  BLACK SKU...</td>\n",
       "      <td>(JUMBO BAG RED RETROSPOT)</td>\n",
       "      <td>0.014867</td>\n",
       "      <td>0.116577</td>\n",
       "      <td>0.010455</td>\n",
       "      <td>0.703252</td>\n",
       "      <td>6.032510</td>\n",
       "      <td>0.008722</td>\n",
       "      <td>2.977014</td>\n",
       "      <td>0.846821</td>\n",
       "    </tr>\n",
       "    <tr>\n",
       "      <th>4</th>\n",
       "      <td>(SET OF 3 CAKE TINS PANTRY DESIGN, JAM MAKING ...</td>\n",
       "      <td>(JAM MAKING SET PRINTED)</td>\n",
       "      <td>0.021333</td>\n",
       "      <td>0.058984</td>\n",
       "      <td>0.011543</td>\n",
       "      <td>0.541076</td>\n",
       "      <td>9.173353</td>\n",
       "      <td>0.010285</td>\n",
       "      <td>2.050487</td>\n",
       "      <td>0.910411</td>\n",
       "    </tr>\n",
       "    <tr>\n",
       "      <th>...</th>\n",
       "      <td>...</td>\n",
       "      <td>...</td>\n",
       "      <td>...</td>\n",
       "      <td>...</td>\n",
       "      <td>...</td>\n",
       "      <td>...</td>\n",
       "      <td>...</td>\n",
       "      <td>...</td>\n",
       "      <td>...</td>\n",
       "      <td>...</td>\n",
       "    </tr>\n",
       "    <tr>\n",
       "      <th>1485</th>\n",
       "      <td>(JUMBO BAG VINTAGE DOILY)</td>\n",
       "      <td>(JUMBO BAG RED RETROSPOT)</td>\n",
       "      <td>0.042122</td>\n",
       "      <td>0.116577</td>\n",
       "      <td>0.021152</td>\n",
       "      <td>0.502152</td>\n",
       "      <td>4.307470</td>\n",
       "      <td>0.016241</td>\n",
       "      <td>1.774484</td>\n",
       "      <td>0.801611</td>\n",
       "    </tr>\n",
       "    <tr>\n",
       "      <th>1486</th>\n",
       "      <td>(JUMBO BAG VINTAGE DOILY, JUMBO BAG VINTAGE LEAF)</td>\n",
       "      <td>(JUMBO BAG RED RETROSPOT)</td>\n",
       "      <td>0.016619</td>\n",
       "      <td>0.116577</td>\n",
       "      <td>0.010455</td>\n",
       "      <td>0.629091</td>\n",
       "      <td>5.396354</td>\n",
       "      <td>0.008518</td>\n",
       "      <td>2.381778</td>\n",
       "      <td>0.828458</td>\n",
       "    </tr>\n",
       "    <tr>\n",
       "      <th>1487</th>\n",
       "      <td>(HAND WARMER RED LOVE HEART)</td>\n",
       "      <td>(HAND WARMER OWL DESIGN)</td>\n",
       "      <td>0.023811</td>\n",
       "      <td>0.034568</td>\n",
       "      <td>0.013054</td>\n",
       "      <td>0.548223</td>\n",
       "      <td>15.859181</td>\n",
       "      <td>0.012231</td>\n",
       "      <td>2.136967</td>\n",
       "      <td>0.959799</td>\n",
       "    </tr>\n",
       "    <tr>\n",
       "      <th>1488</th>\n",
       "      <td>(HAND WARMER RED LOVE HEART)</td>\n",
       "      <td>(HAND WARMER SCOTTY DOG DESIGN)</td>\n",
       "      <td>0.023811</td>\n",
       "      <td>0.028162</td>\n",
       "      <td>0.011905</td>\n",
       "      <td>0.500000</td>\n",
       "      <td>17.754292</td>\n",
       "      <td>0.011235</td>\n",
       "      <td>1.943676</td>\n",
       "      <td>0.966693</td>\n",
       "    </tr>\n",
       "    <tr>\n",
       "      <th>1489</th>\n",
       "      <td>(ROLL WRAP 50'S RED CHRISTMAS)</td>\n",
       "      <td>(ROLL WRAP 50'S CHRISTMAS)</td>\n",
       "      <td>0.012752</td>\n",
       "      <td>0.021152</td>\n",
       "      <td>0.010334</td>\n",
       "      <td>0.810427</td>\n",
       "      <td>38.314651</td>\n",
       "      <td>0.010064</td>\n",
       "      <td>5.163424</td>\n",
       "      <td>0.986479</td>\n",
       "    </tr>\n",
       "  </tbody>\n",
       "</table>\n",
       "<p>1490 rows × 10 columns</p>\n",
       "</div>"
      ],
      "text/plain": [
       "                                            antecedents  \\\n",
       "0                             (JUMBO BAG PINK POLKADOT)   \n",
       "1     (JUMBO BAG PINK POLKADOT, WHITE HANGING HEART ...   \n",
       "2     (LUNCH BAG RED RETROSPOT, JUMBO BAG PINK POLKA...   \n",
       "3     (JUMBO BAG PINK POLKADOT, LUNCH BAG  BLACK SKU...   \n",
       "4     (SET OF 3 CAKE TINS PANTRY DESIGN, JAM MAKING ...   \n",
       "...                                                 ...   \n",
       "1485                          (JUMBO BAG VINTAGE DOILY)   \n",
       "1486  (JUMBO BAG VINTAGE DOILY, JUMBO BAG VINTAGE LEAF)   \n",
       "1487                       (HAND WARMER RED LOVE HEART)   \n",
       "1488                       (HAND WARMER RED LOVE HEART)   \n",
       "1489                     (ROLL WRAP 50'S RED CHRISTMAS)   \n",
       "\n",
       "                          consequents  antecedent support  consequent support  \\\n",
       "0           (JUMBO BAG RED RETROSPOT)            0.069680            0.116577   \n",
       "1           (JUMBO BAG RED RETROSPOT)            0.014504            0.116577   \n",
       "2           (JUMBO BAG RED RETROSPOT)            0.018191            0.116577   \n",
       "3           (JUMBO BAG RED RETROSPOT)            0.014867            0.116577   \n",
       "4            (JAM MAKING SET PRINTED)            0.021333            0.058984   \n",
       "...                               ...                 ...                 ...   \n",
       "1485        (JUMBO BAG RED RETROSPOT)            0.042122            0.116577   \n",
       "1486        (JUMBO BAG RED RETROSPOT)            0.016619            0.116577   \n",
       "1487         (HAND WARMER OWL DESIGN)            0.023811            0.034568   \n",
       "1488  (HAND WARMER SCOTTY DOG DESIGN)            0.023811            0.028162   \n",
       "1489       (ROLL WRAP 50'S CHRISTMAS)            0.012752            0.021152   \n",
       "\n",
       "       support  confidence       lift  leverage  conviction  zhangs_metric  \n",
       "0     0.047078    0.675629   5.795557  0.038955    2.723494       0.889430  \n",
       "1     0.010213    0.704167   6.040356  0.008522    2.986219       0.846728  \n",
       "2     0.013960    0.767442   6.583131  0.011840    3.798719       0.863810  \n",
       "3     0.010455    0.703252   6.032510  0.008722    2.977014       0.846821  \n",
       "4     0.011543    0.541076   9.173353  0.010285    2.050487       0.910411  \n",
       "...        ...         ...        ...       ...         ...            ...  \n",
       "1485  0.021152    0.502152   4.307470  0.016241    1.774484       0.801611  \n",
       "1486  0.010455    0.629091   5.396354  0.008518    2.381778       0.828458  \n",
       "1487  0.013054    0.548223  15.859181  0.012231    2.136967       0.959799  \n",
       "1488  0.011905    0.500000  17.754292  0.011235    1.943676       0.966693  \n",
       "1489  0.010334    0.810427  38.314651  0.010064    5.163424       0.986479  \n",
       "\n",
       "[1490 rows x 10 columns]"
      ]
     },
     "execution_count": 74,
     "metadata": {},
     "output_type": "execute_result"
    }
   ],
   "source": [
    "rules_fp = association_rules(frequent_itemsets_fp, \"confidence\", min_threshold = 0.5)\n",
    "print(\"\\nAssociation Rules:\")\n",
    "rules_fp"
   ]
  },
  {
   "cell_type": "code",
   "execution_count": 75,
   "id": "dae823d8",
   "metadata": {},
   "outputs": [
    {
     "name": "stdout",
     "output_type": "stream",
     "text": [
      "      support                              itemsets\n",
      "0    0.118269  (WHITE HANGING HEART T-LIGHT HOLDER)\n",
      "1    0.116577             (JUMBO BAG RED RETROSPOT)\n",
      "72   0.103765            (REGENCY CAKESTAND 3 TIER)\n",
      "161  0.096271                       (PARTY BUNTING)\n",
      "94   0.087992             (LUNCH BAG RED RETROSPOT)\n",
      "95   0.080317       (ASSORTED COLOUR BIRD ORNAMENT)\n",
      "23   0.077416    (SET OF 3 CAKE TINS PANTRY DESIGN)\n"
     ]
    }
   ],
   "source": [
    "sorted_itemsets_fp= frequent_itemsets_fp.sort_values(by='support', ascending=False)\n",
    "top_7_itemsets_fp = sorted_itemsets_fp.head(7)\n",
    "print(top_7_itemsets_fp)"
   ]
  },
  {
   "cell_type": "code",
   "execution_count": 76,
   "id": "cd303023",
   "metadata": {},
   "outputs": [
    {
     "name": "stdout",
     "output_type": "stream",
     "text": [
      "                                            antecedents  \\\n",
      "1203  (HERB MARKER MINT, HERB MARKER BASIL, HERB MAR...   \n",
      "1231  (HERB MARKER PARSLEY, HERB MARKER MINT, HERB M...   \n",
      "1217  (HERB MARKER PARSLEY, HERB MARKER BASIL, HERB ...   \n",
      "547               (HERB MARKER MINT, HERB MARKER THYME)   \n",
      "523             (HERB MARKER CHIVES, HERB MARKER THYME)   \n",
      "\n",
      "                 consequents  antecedent support  consequent support  \\\n",
      "1203  (HERB MARKER ROSEMARY)            0.010334            0.013114   \n",
      "1231  (HERB MARKER ROSEMARY)            0.010636            0.013114   \n",
      "1217  (HERB MARKER ROSEMARY)            0.010455            0.013114   \n",
      "547   (HERB MARKER ROSEMARY)            0.011362            0.013114   \n",
      "523    (HERB MARKER PARSLEY)            0.010455            0.012933   \n",
      "\n",
      "       support  confidence       lift  leverage  conviction  zhangs_metric  \n",
      "1203  0.010092    0.976608  74.469750  0.009957   42.189370       0.996874  \n",
      "1231  0.010334    0.971591  74.087165  0.010195   34.738382       0.997108  \n",
      "1217  0.010153    0.971098  74.049599  0.010016   34.146250       0.996918  \n",
      "547   0.010999    0.968085  73.819835  0.010850   30.922423       0.997790  \n",
      "523   0.010092    0.965318  74.640727  0.009957   28.460436       0.997026  \n"
     ]
    }
   ],
   "source": [
    "sorted_rules_by_confidence_fp = rules_fp.sort_values(by='confidence', ascending=False)\n",
    "top_10_rules_by_confidence_fp = sorted_rules_by_confidence.head(10)\n",
    "print(top_5_rules_by_confidence)"
   ]
  },
  {
   "cell_type": "code",
   "execution_count": 77,
   "id": "e6aeee1f",
   "metadata": {},
   "outputs": [
    {
     "name": "stdout",
     "output_type": "stream",
     "text": [
      "                                     antecedents  \\\n",
      "955        (HERB MARKER MINT, HERB MARKER THYME)   \n",
      "950  (HERB MARKER ROSEMARY, HERB MARKER PARSLEY)   \n",
      "968        (HERB MARKER MINT, HERB MARKER THYME)   \n",
      "965    (HERB MARKER ROSEMARY, HERB MARKER BASIL)   \n",
      "953     (HERB MARKER PARSLEY, HERB MARKER THYME)   \n",
      "952     (HERB MARKER ROSEMARY, HERB MARKER MINT)   \n",
      "918  (HERB MARKER ROSEMARY, HERB MARKER PARSLEY)   \n",
      "923       (HERB MARKER BASIL, HERB MARKER THYME)   \n",
      "922     (HERB MARKER PARSLEY, HERB MARKER THYME)   \n",
      "919    (HERB MARKER ROSEMARY, HERB MARKER BASIL)   \n",
      "\n",
      "                                     consequents  antecedent support  \\\n",
      "955  (HERB MARKER ROSEMARY, HERB MARKER PARSLEY)            0.011362   \n",
      "950        (HERB MARKER MINT, HERB MARKER THYME)            0.011785   \n",
      "968    (HERB MARKER ROSEMARY, HERB MARKER BASIL)            0.011362   \n",
      "965        (HERB MARKER MINT, HERB MARKER THYME)            0.011603   \n",
      "953     (HERB MARKER ROSEMARY, HERB MARKER MINT)            0.011603   \n",
      "952     (HERB MARKER PARSLEY, HERB MARKER THYME)            0.011724   \n",
      "918       (HERB MARKER BASIL, HERB MARKER THYME)            0.011785   \n",
      "923  (HERB MARKER ROSEMARY, HERB MARKER PARSLEY)            0.011422   \n",
      "922    (HERB MARKER ROSEMARY, HERB MARKER BASIL)            0.011603   \n",
      "919     (HERB MARKER PARSLEY, HERB MARKER THYME)            0.011603   \n",
      "\n",
      "     consequent support   support  confidence       lift  leverage  \\\n",
      "955            0.011785  0.010334    0.909574  77.183224  0.010200   \n",
      "950            0.011362  0.010334    0.876923  77.183224  0.010200   \n",
      "968            0.011603  0.010092    0.888298  76.555546  0.009961   \n",
      "965            0.011362  0.010092    0.869792  76.555546  0.009961   \n",
      "953            0.011724  0.010334    0.890625  75.964803  0.010198   \n",
      "952            0.011603  0.010334    0.881443  75.964803  0.010198   \n",
      "918            0.011422  0.010153    0.861538  75.427920  0.010018   \n",
      "923            0.011785  0.010153    0.888889  75.427920  0.010018   \n",
      "922            0.011603  0.010153    0.875000  75.409505  0.010018   \n",
      "919            0.011603  0.010153    0.875000  75.409505  0.010018   \n",
      "\n",
      "     conviction  zhangs_metric  \n",
      "955   10.928500       0.998387  \n",
      "950    8.032687       0.998814  \n",
      "968    8.848504       0.998280  \n",
      "965    7.592743       0.998524  \n",
      "953    9.035665       0.998421  \n",
      "952    8.336911       0.998543  \n",
      "918    7.139730       0.998509  \n",
      "923    8.893938       0.998143  \n",
      "922    7.907174       0.998323  \n",
      "919    7.907174       0.998323  \n"
     ]
    }
   ],
   "source": [
    "sorted_rules_by_lift_fp = rules_fp.sort_values(by='lift', ascending=False)\n",
    "top_10_rules_by_lift_fp = sorted_rules_by_lift.head(10)\n",
    "print(top_10_rules_by_lift_fp)"
   ]
  },
  {
   "cell_type": "markdown",
   "id": "6ca5737a",
   "metadata": {},
   "source": [
    "### The best combination of the items"
   ]
  },
  {
   "cell_type": "code",
   "execution_count": 78,
   "id": "76210e16",
   "metadata": {},
   "outputs": [
    {
     "name": "stdout",
     "output_type": "stream",
     "text": [
      "                               antecedents  \\\n",
      "955  (HERB MARKER MINT, HERB MARKER THYME)   \n",
      "\n",
      "                                     consequents  antecedent support  \\\n",
      "955  (HERB MARKER ROSEMARY, HERB MARKER PARSLEY)            0.011362   \n",
      "\n",
      "     consequent support   support  confidence       lift  leverage  \\\n",
      "955            0.011785  0.010334    0.909574  77.183224    0.0102   \n",
      "\n",
      "     conviction  zhangs_metric  \n",
      "955     10.9285       0.998387  \n"
     ]
    }
   ],
   "source": [
    "sorted_rules_by_lift_fp = rules_fp.sort_values(by='lift', ascending=False)\n",
    "best_combination_by_lift_fp = sorted_rules_by_lift.head(1)\n",
    "print(best_combination_by_lift_fp)"
   ]
  },
  {
   "cell_type": "markdown",
   "id": "525d06ca",
   "metadata": {},
   "source": [
    "Apriori and FP-Growth are two popular algorithms used to mine frequent itemsets in association rule learning, From the abaove we can see that Both algorithms aim to identify patterns of co-occurring items in datasets. However, FP-Growth has several advantages over Apriori in terms of efficiency and performance.\n",
    "\n",
    "FP-Growth stands out for its efficiency in handling large datasets compared to Apriori. Unlike Apriori, FP-Growth doesn't require multiple scans of the dataset, reducing the computational burden significantly, especially when dealing with massive transactional data. \n",
    "\n",
    "Moreover, FP-Growth utilizes a tree structure (FP-tree) to encode the dataset, compressing the information and enabling faster mining of frequent itemsets. This tree-based approach allows for quicker pattern discovery by bypassing the generation of candidate itemsets, which is a major step in Apriori and can be computationally expensive.\n",
    "\n",
    "The advantages of FP-Growth, such as its ability to efficiently handle large datasets and expedite the mining process by utilizing a compact data structure, make it particularly advantageous in scenarios where scalability and computational efficiency are crucial for discovering frequent itemsets."
   ]
  },
  {
   "cell_type": "markdown",
   "id": "0f28cc35",
   "metadata": {},
   "source": [
    "#"
   ]
  },
  {
   "cell_type": "markdown",
   "id": "a327059f",
   "metadata": {},
   "source": [
    "# Conclusion\n",
    "\n",
    "Based on the frequent itemsets generated from the association analysis , we've observed several noteworthy associations among these items. Combinations such as (HERB MARKER MINT, HERB MARKER THYME), (HERB MARKER ROSEMARY, HERB MARKER PARSLEY), and (HERB MARKER ROSEMARY, HERB MARKER BASIL) are consistently occurring together more frequently than others in our sales records. This indicates a strong correlation and customer preference for these specific pairs of herb markers. These associations present valuable insights into customer behavior and preferences, suggesting potential bundling opportunities or strategic product placements. Leveraging these findings can empower us to design targeted marketing campaigns or create bundled offers, effectively catering to customer preferences and enhancing sales prospects.\n",
    "\n",
    "### ->The most purchaed item is paper craft,little Birdie.\n",
    "### ->The most frequently purchased item is white hanging heart t-light holder .\n",
    "### ->The best combination of items bought are :\n",
    "#### (HERB MARKER MINT, HERB MARKER THYME), \n",
    "#### (HERB MARKER ROSEMARY, HERB MARKER PARSLEY),and \n",
    "#### (HERB MARKER ROSEMARY, HERB MARKER BASIL) \n"
   ]
  },
  {
   "cell_type": "code",
   "execution_count": null,
   "id": "fad96c5f",
   "metadata": {},
   "outputs": [],
   "source": []
  }
 ],
 "metadata": {
  "kernelspec": {
   "display_name": "Python 3 (ipykernel)",
   "language": "python",
   "name": "python3"
  },
  "language_info": {
   "codemirror_mode": {
    "name": "ipython",
    "version": 3
   },
   "file_extension": ".py",
   "mimetype": "text/x-python",
   "name": "python",
   "nbconvert_exporter": "python",
   "pygments_lexer": "ipython3",
   "version": "3.10.9"
  }
 },
 "nbformat": 4,
 "nbformat_minor": 5
}
